{
  "cells": [
    {
      "cell_type": "markdown",
      "metadata": {
        "id": "view-in-github",
        "colab_type": "text"
      },
      "source": [
        "<a href=\"https://colab.research.google.com/github/ShaunB-G/eportfolio/blob/main/AssessmentDB.ipynb\" target=\"_parent\"><img src=\"https://colab.research.google.com/assets/colab-badge.svg\" alt=\"Open In Colab\"/></a>"
      ]
    },
    {
      "cell_type": "code",
      "source": [
        "!pip install mysql.connector\n"
      ],
      "metadata": {
        "id": "lQNmxjp_8b53"
      },
      "id": "lQNmxjp_8b53",
      "execution_count": null,
      "outputs": []
    },
    {
      "cell_type": "code",
      "execution_count": null,
      "id": "7071eeb4",
      "metadata": {
        "id": "7071eeb4"
      },
      "outputs": [],
      "source": [
        "import mysql.connector\n",
        "\n",
        "mydb = mysql.connector.connect(\n",
        "  host=\"sql8.freesqldatabase.com\",\n",
        "  user=\"sql8629511\",\n",
        "  password=\"piCnnyCvCH\"\n",
        ")\n",
        "mycursor = mydb.cursor()\n",
        "\n"
      ]
    },
    {
      "cell_type": "code",
      "execution_count": null,
      "id": "27560f4d",
      "metadata": {
        "colab": {
          "base_uri": "https://localhost:8080/"
        },
        "id": "27560f4d",
        "outputId": "e7353b19-d96a-4e6f-c426-c98ea751ce3c"
      },
      "outputs": [
        {
          "output_type": "stream",
          "name": "stdout",
          "text": [
            "('information_schema',)\n",
            "('sql8629511',)\n"
          ]
        }
      ],
      "source": [
        "##Create db /already available\n",
        "#mycursor.execute(\"CREATE DATABASE DreamlandManor\")\n",
        "\n",
        "#Check db was created\n",
        "mycursor.execute(\"SHOW DATABASES\")\n",
        "\n",
        "for x in mycursor:\n",
        "  print(x)"
      ]
    },
    {
      "cell_type": "code",
      "execution_count": null,
      "id": "75de5f69",
      "metadata": {
        "id": "75de5f69"
      },
      "outputs": [],
      "source": [
        "##Connect to db\n",
        "mydb = mysql.connector.connect(\n",
        "  host=\"sql8.freesqldatabase.com\",\n",
        "  user=\"sql8629511\",\n",
        "  password=\"piCnnyCvCH\",\n",
        "  database=\"sql8629511\"\n",
        ")\n",
        "\n",
        "mycursor = mydb.cursor()"
      ]
    },
    {
      "cell_type": "code",
      "execution_count": null,
      "id": "5971a18c",
      "metadata": {
        "colab": {
          "base_uri": "https://localhost:8080/"
        },
        "id": "5971a18c",
        "outputId": "f3bf4fc2-fa03-4fbf-dbb9-de390796bb10"
      },
      "outputs": [
        {
          "output_type": "stream",
          "name": "stdout",
          "text": [
            "('Amenities',)\n",
            "('Billing',)\n",
            "('Gallery',)\n",
            "('Hotel',)\n",
            "('Identities',)\n",
            "('Reservations',)\n",
            "('Rooms',)\n",
            "('RoomsAmentities',)\n",
            "('Users',)\n",
            "('UsersIdentities',)\n"
          ]
        }
      ],
      "source": [
        "##Create tables\n",
        "mycursor.execute(\"CREATE TABLE Hotel (id INT AUTO_INCREMENT PRIMARY KEY, name VARCHAR(255), description varchar(255), rating varchar(255), email varchar(255),country varchar(255), city varchar(255), street varchar(255), phone varchar(255))\")\n",
        "mycursor.execute(\"CREATE TABLE Rooms (id INT AUTO_INCREMENT PRIMARY KEY, hotelId integer, shortname varchar(255), status varchar(255), price float, type varchar(255), capacity integer, desription varchar(255))\")\n",
        "mycursor.execute(\"CREATE TABLE Amenities (id INT AUTO_INCREMENT PRIMARY KEY, name VARCHAR(255))\")\n",
        "mycursor.execute(\"CREATE TABLE Users (id INT AUTO_INCREMENT PRIMARY KEY, firstName varchar(255), lastName varchar(255))\")\n",
        "mycursor.execute(\"CREATE TABLE Gallery (id INT AUTO_INCREMENT PRIMARY KEY, roomId integer, type varchar(255), url varchar(255))\")\n",
        "mycursor.execute(\"CREATE TABLE RoomsAmentities (roomid INT AUTO_INCREMENT PRIMARY KEY, amenityID integer)\")\n",
        "mycursor.execute(\"CREATE TABLE Reservations (id INT AUTO_INCREMENT PRIMARY KEY, roomId integer, userId integer, checkin date, checkout date, status varchar(255), notes varchar(255), FOREIGN KEY (roomId) REFERENCES Rooms (id))\")\n",
        "mycursor.execute(\"CREATE TABLE UsersIdentities (userId INT AUTO_INCREMENT PRIMARY KEY, identityId integer, FOREIGN KEY (userId) REFERENCES Users (id))\")\n",
        "mycursor.execute(\"CREATE TABLE Billing (id INT AUTO_INCREMENT PRIMARY KEY, reservationId integer, userId integer, billNumber varchar(255), amount float, status varchar(255), billed date, paid date, paymentReference varchar(255), receiptNumber varchar(255))\")\n",
        "mycursor.execute(\"CREATE TABLE Identities (id INT AUTO_INCREMENT PRIMARY KEY, hotelId integer, email varchar(255), password varchar(255), role varchar(255))\")\n",
        "\n",
        "#Check tables were created\n",
        "mycursor.execute(\"SHOW TABLES\")\n",
        "for x in mycursor:\n",
        "  print(x)"
      ]
    },
    {
      "cell_type": "code",
      "execution_count": null,
      "id": "0b1bdea8",
      "metadata": {
        "id": "0b1bdea8"
      },
      "outputs": [],
      "source": [
        "mycursor.execute(\"ALTER TABLE Rooms ADD FOREIGN KEY (hotelId) REFERENCES Hotel (id)\")\n",
        "\n",
        "mycursor.execute(\"ALTER TABLE Identities ADD FOREIGN KEY (hotelId) REFERENCES Hotel (id)\")\n",
        "\n",
        "mycursor.execute(\"ALTER TABLE UsersIdentities ADD FOREIGN KEY (userId) REFERENCES Users (id)\")\n",
        "\n",
        "mycursor.execute(\"ALTER TABLE UsersIdentities ADD FOREIGN KEY (identityId) REFERENCES Identities (id)\")\n",
        "\n",
        "mycursor.execute(\"ALTER TABLE RoomsAmentities ADD FOREIGN KEY (roomId) REFERENCES Rooms (id)\")\n",
        "\n",
        "mycursor.execute(\"ALTER TABLE RoomsAmentities ADD FOREIGN KEY (amenityID) REFERENCES Amenities (id)\")\n",
        "\n",
        "mycursor.execute(\"ALTER TABLE Reservations ADD FOREIGN KEY (roomId) REFERENCES Rooms (id)\")\n",
        "\n",
        "mycursor.execute(\"ALTER TABLE Reservations ADD FOREIGN KEY (userId) REFERENCES Users (id)\")\n",
        "\n",
        "mycursor.execute(\"ALTER TABLE Billing ADD FOREIGN KEY (reservationId) REFERENCES Reservations (id)\")\n",
        "\n",
        "mycursor.execute(\"ALTER TABLE Gallery ADD FOREIGN KEY (roomId) REFERENCES Rooms (id)\")\n"
      ]
    },
    {
      "cell_type": "code",
      "execution_count": null,
      "id": "669a062d",
      "metadata": {
        "id": "669a062d"
      },
      "outputs": [],
      "source": []
    },
    {
      "cell_type": "code",
      "source": [
        "#Populating tables with data\n",
        "#install the faker package\n",
        "!pip install Faker\n",
        "\n",
        "# Import the necessary packages\n",
        "from faker import Faker\n",
        "import datetime\n",
        "\n",
        "# Create an instance of the Faker generator\n",
        "fake = Faker()"
      ],
      "metadata": {
        "colab": {
          "base_uri": "https://localhost:8080/"
        },
        "id": "LNHX4u9tPo-P",
        "outputId": "e882d0e7-326a-4e3d-f1e2-07d13d2ecc4e"
      },
      "id": "LNHX4u9tPo-P",
      "execution_count": null,
      "outputs": [
        {
          "output_type": "stream",
          "name": "stdout",
          "text": [
            "Requirement already satisfied: Faker in /usr/local/lib/python3.10/dist-packages (18.11.2)\n",
            "Requirement already satisfied: python-dateutil>=2.4 in /usr/local/lib/python3.10/dist-packages (from Faker) (2.8.2)\n",
            "Requirement already satisfied: six>=1.5 in /usr/local/lib/python3.10/dist-packages (from python-dateutil>=2.4->Faker) (1.16.0)\n"
          ]
        }
      ]
    },
    {
      "cell_type": "code",
      "execution_count": null,
      "id": "00fdb12f",
      "metadata": {
        "id": "00fdb12f"
      },
      "outputs": [],
      "source": [
        "# Truncate existing tables\n",
        "mycursor.execute(\"SET FOREIGN_KEY_CHECKS = 0\")\n",
        "mycursor.execute(\"TRUNCATE TABLE Hotel\")\n",
        "mycursor.execute(\"TRUNCATE TABLE Rooms\")\n",
        "mycursor.execute(\"TRUNCATE TABLE Amenities\")\n",
        "mycursor.execute(\"TRUNCATE TABLE Users\")\n",
        "mycursor.execute(\"TRUNCATE TABLE Gallery\")\n",
        "mycursor.execute(\"TRUNCATE TABLE RoomsAmentities\")\n",
        "mycursor.execute(\"TRUNCATE TABLE Reservations\")\n",
        "mycursor.execute(\"TRUNCATE TABLE UsersIdentities\")\n",
        "mycursor.execute(\"TRUNCATE TABLE Billing\")\n",
        "mycursor.execute(\"TRUNCATE TABLE Identities\")\n",
        "mycursor.execute(\"SET FOREIGN_KEY_CHECKS = 1\")"
      ]
    },
    {
      "cell_type": "code",
      "source": [
        "hotel_name = \"Dreamland Manor\"\n",
        "hotel_description = fake.sentence()\n",
        "hotel_rating = fake.random_int(min=1, max=5)\n",
        "hotel_email = fake.email()\n",
        "hotel_country = fake.country()\n",
        "hotel_city = fake.city()\n",
        "hotel_street = fake.street_address()\n",
        "hotel_phone = fake.phone_number()\n",
        "mycursor.execute(f\"INSERT INTO Hotel (name, description, rating, email, country, city, street, phone) VALUES ('{hotel_name}', '{hotel_description}', '{hotel_rating}', '{hotel_email}', '{hotel_country}', '{hotel_city}', '{hotel_street}', '{hotel_phone}')\")\n",
        "\n",
        "\n",
        "mycursor.execute(\"SELECT * FROM Hotel\")\n",
        "\n",
        "hotel = mycursor.fetchall()\n",
        "hotel_id = hotel[0][0]\n",
        "print(hotel_id)\n",
        "for x in hotel:\n",
        "  print(x)"
      ],
      "metadata": {
        "colab": {
          "base_uri": "https://localhost:8080/"
        },
        "id": "5ZwNqMcpPc_v",
        "outputId": "00d02dd3-353e-46b4-837a-cb988d0a2e6c"
      },
      "id": "5ZwNqMcpPc_v",
      "execution_count": null,
      "outputs": [
        {
          "output_type": "stream",
          "name": "stdout",
          "text": [
            "1\n",
            "(1, 'Dreamland Manor', 'While camera mission many policy edge.', '5', 'ttyler@example.com', 'Hong Kong', 'South Jamesbury', '0957 Roman Plain Suite 064', '(306)435-5567x7915')\n"
          ]
        }
      ]
    },
    {
      "cell_type": "code",
      "source": [
        "\n",
        "# Create and execute insert statements to populate the tables with 1000 records\n",
        "for _ in range(10):\n",
        "    # Insert statement for Rooms table\n",
        "    room_hotel_id = hotel_id #forign key to hotel\n",
        "    room_shortname = fake.random_letter() + fake.random_letter()\n",
        "    room_status = fake.random_element(elements=('Available', 'Occupied', 'Maintenance'))\n",
        "    room_price = fake.random_int(min=50, max=200)\n",
        "    room_type = fake.random_element(elements=('Standard', 'Deluxe', 'Suite'))\n",
        "    room_capacity = fake.random_int(min=1, max=4)\n",
        "    room_description = fake.sentence()\n",
        "    roomcursor = mydb.cursor()\n",
        "    roomcursor.execute(f\"INSERT INTO Rooms (hotelId, shortname, status, price, type, capacity, desription) VALUES ('{room_hotel_id}', '{room_shortname}', '{room_status}', '{room_price}', '{room_type}', '{room_capacity}', '{room_description}')\")\n",
        "\n",
        "    # Insert statement for Gallery table\n",
        "    gallery_room_id = roomcursor.lastrowid\n",
        "    gallery_type = fake.random_element(elements=('Image', 'Video'))\n",
        "    gallery_url = fake.url()\n",
        "    mycursor.execute(f\"INSERT INTO Gallery (roomId, type, url) VALUES ('{gallery_room_id}', '{gallery_type}', '{gallery_url}')\")\n",
        "\n",
        "    # Insert statement for Amenities table\n",
        "    amenity_name = fake.word()\n",
        "    amenitycursor = mydb.cursor()\n",
        "    amenitycursor.execute(f\"INSERT INTO Amenities (name) VALUES ('{amenity_name}')\")\n",
        "\n",
        "    # Insert statement for RoomsAmentities table\n",
        "    mycursor.execute(f\"INSERT INTO RoomsAmentities (roomid, amenityID) VALUES ('{roomcursor.lastrowid}', '{amenitycursor.lastrowid}')\")\n",
        "\n",
        "    # Insert statement for Users table\n",
        "    user_first_name = fake.first_name()\n",
        "    user_last_name = fake.last_name()\n",
        "    usercursor = mydb.cursor()\n",
        "    usercursor.execute(f\"INSERT INTO Users (firstName, lastName) VALUES ('{user_first_name}', '{user_last_name}')\")\n",
        "\n",
        "\n",
        "\n",
        "    # Insert statement for Reservations table\n",
        "    reservation_room_id = roomcursor.lastrowid\n",
        "    reservation_user_id = usercursor.lastrowid\n",
        "    reservation_checkin = fake.date_between(start_date='-1y', end_date='+1y')\n",
        "    reservation_checkout = fake.date_between_dates(date_start=reservation_checkin, date_end=reservation_checkin+datetime.timedelta(days=5))\n",
        "    reservation_status = fake.random_element(elements=('Confirmed', 'Pending', 'Cancelled'))\n",
        "    reservation_notes = fake.sentence()\n",
        "    reservationcursor = mydb.cursor()\n",
        "    reservationcursor.execute(f\"INSERT INTO Reservations (roomId, userId, checkin, checkout, status, notes) VALUES ('{reservation_room_id}', '{reservation_user_id}', '{reservation_checkin}', '{reservation_checkout}', '{reservation_status}', '{reservation_notes}')\")\n",
        "\n",
        "    # Insert statement for UsersIdentities table\n",
        "    #user_identity_id = fake.random_int(min=1, max=100)\n",
        "    #mycursor.execute(f\"INSERT INTO UsersIdentities (userId, identityId) VALUES ('{reservation_user_id}', '{user_identity_id}')\")\n",
        "\n",
        "    # Insert statement for Billing table\n",
        "    billing_reservation_id = reservationcursor.lastrowid\n",
        "    billing_user_id = usercursor.lastrowid\n",
        "    billing_number = fake.random_number(digits=6)\n",
        "    billing_amount = fake.random_int(min=100, max=500)\n",
        "    billing_status = fake.random_element(elements=('Paid', 'Unpaid'))\n",
        "    billing_billed = fake.date_between(start_date='-1y', end_date='today')\n",
        "    billing_paid = fake.date_between_dates(date_start=billing_billed, date_end=billing_billed+datetime.timedelta(days=10))\n",
        "    billing_reference = fake.random_number(digits=6)\n",
        "    billing_receipt = fake.random_number(digits=6)\n",
        "    mycursor.execute(f\"INSERT INTO Billing (reservationId, userId, billNumber, amount, status, billed, paid, paymentReference, receiptNumber) VALUES ('{billing_reservation_id}', '{billing_user_id}', '{billing_number}', '{billing_amount}', '{billing_status}', '{billing_billed}', '{billing_paid}', '{billing_reference}', '{billing_receipt}')\")\n",
        "\n",
        "    # Insert statement for Identities table\n",
        "    identity_hotel_id = hotel_id\n",
        "    identity_email = fake.email()\n",
        "    identity_password = fake.password()\n",
        "    identity_role = fake.random_element(elements=('Admin', 'Employee','Guest'))\n",
        "    mycursor.execute(f\"INSERT INTO Identities (hotelId, email, password, role) VALUES ('{identity_hotel_id}', '{identity_email}', '{identity_password}', '{identity_role}')\")\n",
        "\n",
        "# Commit the changes to the database\n",
        "mydb.commit()"
      ],
      "metadata": {
        "id": "0IK5lEXvPAYT"
      },
      "id": "0IK5lEXvPAYT",
      "execution_count": null,
      "outputs": []
    },
    {
      "cell_type": "code",
      "source": [
        "#check if all table\n",
        "# Check and count records in each table\n",
        "\n",
        "# Hotel table\n",
        "mycursor.execute(\"SELECT COUNT(*) FROM Hotel\")\n",
        "hotel_count = mycursor.fetchone()[0]\n",
        "print(\"Hotel Count:\", hotel_count)\n",
        "\n",
        "# Rooms table\n",
        "mycursor.execute(\"SELECT COUNT(*) FROM Rooms\")\n",
        "rooms_count = mycursor.fetchone()[0]\n",
        "print(\"Rooms Count:\", rooms_count)\n",
        "\n",
        "# Amenities table\n",
        "mycursor.execute(\"SELECT COUNT(*) FROM Amenities\")\n",
        "amenities_count = mycursor.fetchone()[0]\n",
        "print(\"Amenities Count:\", amenities_count)\n",
        "\n",
        "# Users table\n",
        "mycursor.execute(\"SELECT COUNT(*) FROM Users\")\n",
        "users_count = mycursor.fetchone()[0]\n",
        "print(\"Users Count:\", users_count)\n",
        "\n",
        "# Gallery table\n",
        "mycursor.execute(\"SELECT COUNT(*) FROM Gallery\")\n",
        "gallery_count = mycursor.fetchone()[0]\n",
        "print(\"Gallery Count:\", gallery_count)\n",
        "\n",
        "# RoomsAmentities table\n",
        "mycursor.execute(\"SELECT COUNT(*) FROM RoomsAmentities\")\n",
        "rooms_amenities_count = mycursor.fetchone()[0]\n",
        "print(\"RoomsAmenities Count:\", rooms_amenities_count)\n",
        "\n",
        "# Reservations table\n",
        "mycursor.execute(\"SELECT COUNT(*) FROM Reservations\")\n",
        "reservations_count = mycursor.fetchone()[0]\n",
        "print(\"Reservations Count:\", reservations_count)\n",
        "\n",
        "# UsersIdentities table\n",
        "mycursor.execute(\"SELECT COUNT(*) FROM UsersIdentities\")\n",
        "users_identities_count = mycursor.fetchone()[0]\n",
        "print(\"UsersIdentities Count:\", users_identities_count)\n",
        "\n",
        "# Billing table\n",
        "mycursor.execute(\"SELECT COUNT(*) FROM Billing\")\n",
        "billing_count = mycursor.fetchone()[0]\n",
        "print(\"Billing Count:\", billing_count)\n",
        "\n",
        "# Identities table\n",
        "mycursor.execute(\"SELECT COUNT(*) FROM Identities\")\n",
        "identities_count = mycursor.fetchone()[0]\n",
        "print(\"Identities Count:\", identities_count)\n"
      ],
      "metadata": {
        "colab": {
          "base_uri": "https://localhost:8080/"
        },
        "id": "wr91MchiYI6s",
        "outputId": "3b918e60-d14c-4d9a-a986-02672ba2f306"
      },
      "id": "wr91MchiYI6s",
      "execution_count": null,
      "outputs": [
        {
          "output_type": "stream",
          "name": "stdout",
          "text": [
            "Hotel Count: 1\n",
            "Rooms Count: 11\n",
            "Amenities Count: 11\n",
            "Users Count: 11\n",
            "Gallery Count: 11\n",
            "RoomsAmenities Count: 11\n",
            "Reservations Count: 10\n",
            "UsersIdentities Count: 0\n",
            "Billing Count: 10\n",
            "Identities Count: 10\n"
          ]
        }
      ]
    },
    {
      "cell_type": "code",
      "source": [
        "# Fetch records from each table\n",
        "# Hotel table\n",
        "mycursor.execute(\"SELECT * FROM Hotel\")\n",
        "hotel_records = mycursor.fetchall()\n",
        "print(\"Hotel Records:\")\n",
        "for record in hotel_records:\n",
        "    print(record)\n",
        "\n",
        "# Rooms table\n",
        "mycursor.execute(\"SELECT * FROM Rooms\")\n",
        "rooms_records = mycursor.fetchall()\n",
        "print(\"Rooms Records:\")\n",
        "for record in rooms_records:\n",
        "    print(record)\n",
        "\n",
        "# Amenities table\n",
        "mycursor.execute(\"SELECT * FROM Amenities\")\n",
        "amenities_records = mycursor.fetchall()\n",
        "print(\"Amenities Records:\")\n",
        "for record in amenities_records:\n",
        "    print(record)\n",
        "\n",
        "# Users table\n",
        "mycursor.execute(\"SELECT * FROM Users\")\n",
        "users_records = mycursor.fetchall()\n",
        "print(\"Users Records:\")\n",
        "for record in users_records:\n",
        "    print(record)\n",
        "\n",
        "# Gallery table\n",
        "mycursor.execute(\"SELECT * FROM Gallery\")\n",
        "gallery_records = mycursor.fetchall()\n",
        "print(\"Gallery Records:\")\n",
        "for record in gallery_records:\n",
        "    print(record)\n",
        "\n",
        "\n",
        "# Reservations table\n",
        "mycursor.execute(\"SELECT * FROM Reservations\")\n",
        "reservations_records = mycursor.fetchall()\n",
        "print(\"Reservations Records:\")\n",
        "for record in reservations_records:\n",
        "    print(record)\n",
        "\n",
        "# UsersIdentities table\n",
        "mycursor.execute(\"SELECT * FROM UsersIdentities\")\n",
        "users_identities_records = mycursor.fetchall()\n",
        "print(\"UsersIdentities Records:\")\n",
        "for record in users_identities_records:\n",
        "    print(record)\n",
        "\n",
        "# Billing table\n",
        "mycursor.execute(\"SELECT * FROM Billing\")\n",
        "billing_records = mycursor.fetchall()\n",
        "print(\"Billing Records:\")\n",
        "for record in billing_records:\n",
        "    print(record)\n",
        "\n",
        "# Identities table\n",
        "mycursor.execute(\"SELECT * FROM Identities\")\n",
        "identities_records = mycursor.fetchall()\n",
        "print(\"Identities Records:\")\n",
        "for record in identities_records:\n",
        "    print(record)\n"
      ],
      "metadata": {
        "colab": {
          "base_uri": "https://localhost:8080/"
        },
        "id": "lE18J2RXYpYy",
        "outputId": "f4918363-17d1-453b-e16a-727e8f9160c9"
      },
      "id": "lE18J2RXYpYy",
      "execution_count": null,
      "outputs": [
        {
          "output_type": "stream",
          "name": "stdout",
          "text": [
            "Hotel Records:\n",
            "(1, 'Dreamland Manor', 'While camera mission many policy edge.', '5', 'ttyler@example.com', 'Hong Kong', 'South Jamesbury', '0957 Roman Plain Suite 064', '(306)435-5567x7915')\n",
            "Rooms Records:\n",
            "(1, 1, 'VT', 'Occupied', 164.0, 'Suite', 1, 'Cut accept do support American soon behind.')\n",
            "(2, 1, 'FN', 'Available', 181.0, 'Deluxe', 2, 'Class several whom.')\n",
            "(3, 1, 'xU', 'Available', 62.0, 'Suite', 1, 'Write amount wait wind news if either.')\n",
            "(4, 1, 'vg', 'Occupied', 137.0, 'Suite', 3, 'Move join system culture run money true.')\n",
            "(5, 1, 'RO', 'Available', 139.0, 'Deluxe', 1, 'Place range arrive Democrat sit out.')\n",
            "(6, 1, 'LO', 'Occupied', 101.0, 'Deluxe', 2, 'Among scene base Democrat author shoulder hard thank.')\n",
            "(7, 1, 'kA', 'Occupied', 172.0, 'Standard', 1, 'Eat policy cover people.')\n",
            "(8, 1, 'QL', 'Maintenance', 95.0, 'Suite', 3, 'Statement team edge foot.')\n",
            "(9, 1, 'Ll', 'Maintenance', 70.0, 'Deluxe', 1, 'Since identify name inside bad special.')\n",
            "(10, 1, 'uW', 'Occupied', 193.0, 'Suite', 4, 'Such ability out particular.')\n",
            "(11, 1, 'XN', 'Available', 149.0, 'Standard', 2, 'Heavy present eye line.')\n",
            "Amenities Records:\n",
            "(1, 'beyond')\n",
            "(2, 'identify')\n",
            "(3, 'reduce')\n",
            "(4, 'news')\n",
            "(5, 'space')\n",
            "(6, 'compare')\n",
            "(7, 'write')\n",
            "(8, 'his')\n",
            "(9, 'many')\n",
            "(10, 'new')\n",
            "(11, 'time')\n",
            "Users Records:\n",
            "(1, 'James', 'Wright')\n",
            "(2, 'Morgan', 'Webb')\n",
            "(3, 'Deanna', 'Hinton')\n",
            "(4, 'Lisa', 'Thompson')\n",
            "(5, 'Cody', 'Daniels')\n",
            "(6, 'Corey', 'Jimenez')\n",
            "(7, 'Ryan', 'Mcknight')\n",
            "(8, 'Jose', 'Hall')\n",
            "(9, 'Andrea', 'Garcia')\n",
            "(10, 'Melissa', 'Miles')\n",
            "(11, 'Andrew', 'Leonard')\n",
            "Gallery Records:\n",
            "(1, 1, 'Video', 'https://www.erickson-shaw.com/')\n",
            "(2, 2, 'Video', 'https://www.vang.com/')\n",
            "(3, 3, 'Image', 'https://www.simpson.org/')\n",
            "(4, 4, 'Image', 'https://www.evans.biz/')\n",
            "(5, 5, 'Video', 'http://davis.com/')\n",
            "(6, 6, 'Video', 'https://www.rodgers.com/')\n",
            "(7, 7, 'Video', 'http://www.mann-day.com/')\n",
            "(8, 8, 'Video', 'http://www.schultz-clark.info/')\n",
            "(9, 9, 'Video', 'https://martinez-gonzales.com/')\n",
            "(10, 10, 'Video', 'http://woods.org/')\n",
            "(11, 11, 'Image', 'http://stein-hood.com/')\n",
            "Reservations Records:\n",
            "(1, 2, 2, datetime.date(2023, 1, 27), datetime.date(2023, 1, 27), 'Cancelled', 'Quality here especially wife step study.')\n",
            "(2, 3, 3, datetime.date(2024, 3, 29), datetime.date(2024, 3, 31), 'Cancelled', 'Worry onto cost arm month general spring.')\n",
            "(3, 4, 4, datetime.date(2023, 2, 7), datetime.date(2023, 2, 7), 'Cancelled', 'Land marriage begin budget.')\n",
            "(4, 5, 5, datetime.date(2022, 8, 9), datetime.date(2022, 8, 10), 'Confirmed', 'Operation happy agent table rise your unit mission.')\n",
            "(5, 6, 6, datetime.date(2023, 4, 7), datetime.date(2023, 4, 7), 'Pending', 'Spring impact address out again.')\n",
            "(6, 7, 7, datetime.date(2023, 8, 10), datetime.date(2023, 8, 11), 'Cancelled', 'International west rich sort will impact.')\n",
            "(7, 8, 8, datetime.date(2024, 6, 2), datetime.date(2024, 6, 3), 'Pending', 'Than draw line anything Congress it yet.')\n",
            "(8, 9, 9, datetime.date(2023, 4, 3), datetime.date(2023, 4, 4), 'Confirmed', 'Who recently field large ten moment kid join.')\n",
            "(9, 10, 10, datetime.date(2023, 3, 31), datetime.date(2023, 4, 3), 'Pending', 'Blood party cost section build listen material.')\n",
            "(10, 11, 11, datetime.date(2023, 6, 10), datetime.date(2023, 6, 13), 'Cancelled', 'Network work environmental speak.')\n",
            "UsersIdentities Records:\n",
            "Billing Records:\n",
            "(1, 1, 2, '204096', 486.0, 'Paid', datetime.date(2023, 3, 19), datetime.date(2023, 3, 20), '477646', '560271')\n",
            "(2, 2, 3, '414703', 115.0, 'Paid', datetime.date(2023, 1, 2), datetime.date(2023, 1, 4), '959471', '775298')\n",
            "(3, 3, 4, '642788', 246.0, 'Paid', datetime.date(2022, 10, 8), datetime.date(2022, 10, 17), '490091', '761563')\n",
            "(4, 4, 5, '584681', 309.0, 'Paid', datetime.date(2023, 6, 27), datetime.date(2023, 6, 27), '971207', '552490')\n",
            "(5, 5, 6, '723821', 167.0, 'Unpaid', datetime.date(2023, 3, 27), datetime.date(2023, 3, 31), '955113', '24711')\n",
            "(6, 6, 7, '133067', 421.0, 'Unpaid', datetime.date(2022, 9, 14), datetime.date(2022, 9, 23), '962603', '80857')\n",
            "(7, 7, 8, '348639', 475.0, 'Unpaid', datetime.date(2023, 6, 27), datetime.date(2023, 6, 28), '317172', '590712')\n",
            "(8, 8, 9, '808720', 472.0, 'Unpaid', datetime.date(2022, 12, 3), datetime.date(2022, 12, 5), '347247', '527735')\n",
            "(9, 9, 10, '618873', 427.0, 'Paid', datetime.date(2022, 10, 3), datetime.date(2022, 10, 8), '931881', '373277')\n",
            "(10, 10, 11, '748531', 495.0, 'Unpaid', datetime.date(2023, 2, 3), datetime.date(2023, 2, 11), '469751', '314813')\n",
            "Identities Records:\n",
            "(1, 1, 'julie87@example.com', '(zl2ZEfwoR', 'Admin')\n",
            "(2, 1, 'bridgeswilliam@example.com', 'bR0H%rQu&#', 'Admin')\n",
            "(3, 1, 'robertsherman@example.org', 'M*2ARF3b^Y', 'Admin')\n",
            "(4, 1, 'adamschad@example.net', '$7MPbHox+&', 'Employee')\n",
            "(5, 1, 'rogerskurt@example.org', '^jJ61EvhJ0', 'Admin')\n",
            "(6, 1, 'hmartin@example.net', '*Pl8ZYku&b', 'Admin')\n",
            "(7, 1, 'ylarsen@example.net', '!b0v*5XiKM', 'Guest')\n",
            "(8, 1, 'clindsey@example.net', '^C0VBHxQ39', 'Employee')\n",
            "(9, 1, 'david76@example.com', 'tu8TxUxQ_Y', 'Admin')\n",
            "(10, 1, 'kayla29@example.org', '%FTAwc*O27', 'Employee')\n"
          ]
        }
      ]
    }
  ],
  "metadata": {
    "kernelspec": {
      "display_name": "Python 3 (ipykernel)",
      "language": "python",
      "name": "python3"
    },
    "language_info": {
      "codemirror_mode": {
        "name": "ipython",
        "version": 3
      },
      "file_extension": ".py",
      "mimetype": "text/x-python",
      "name": "python",
      "nbconvert_exporter": "python",
      "pygments_lexer": "ipython3",
      "version": "3.9.12"
    },
    "colab": {
      "provenance": [],
      "include_colab_link": true
    }
  },
  "nbformat": 4,
  "nbformat_minor": 5
}