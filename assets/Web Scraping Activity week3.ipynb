{
 "cells": [
  {
   "cell_type": "markdown",
   "id": "73dee3e3",
   "metadata": {},
   "source": [
    "Web Scraping Activity"
   ]
  },
  {
   "cell_type": "code",
   "execution_count": 1,
   "id": "5f29066b",
   "metadata": {},
   "outputs": [
    {
     "name": "stderr",
     "output_type": "stream",
     "text": [
      "C:\\Users\\Shaun\\anaconda3\\lib\\site-packages\\requests\\__init__.py:102: RequestsDependencyWarning: urllib3 (1.26.9) or chardet (5.1.0)/charset_normalizer (2.0.4) doesn't match a supported version!\n",
      "  warnings.warn(\"urllib3 ({}) or chardet ({})/charset_normalizer ({}) doesn't match a supported \"\n"
     ]
    }
   ],
   "source": [
    "#Import library\n",
    "from bs4 import BeautifulSoup\n",
    "import requests\n",
    "import pandas as pd\n",
    "import json"
   ]
  },
  {
   "cell_type": "code",
   "execution_count": 21,
   "id": "dd51d8db",
   "metadata": {},
   "outputs": [],
   "source": [
    "#Create parse url and soup object \n",
    "url= \"https://www.ibm.com/topics/data-science\"\n",
    "urlpage = requests.get(url)\n",
    "soup=BeautifulSoup(urlpage.text, \"html.parser\")\n",
    "content = soup.find_all('p')\n",
    "content= str(content) \n",
    "content= content.split(\"</p>\")\n"
   ]
  },
  {
   "cell_type": "code",
   "execution_count": 20,
   "id": "bd83332a",
   "metadata": {},
   "outputs": [],
   "source": [
    "#Filter content to find sentences containing keyword\n",
    "keyword= \"data science\"\n",
    "keycontent= [i for i in content if keyword in i]"
   ]
  },
  {
   "cell_type": "code",
   "execution_count": 19,
   "id": "5fcd0b0a",
   "metadata": {},
   "outputs": [],
   "source": [
    "#funtion to save output as JSON file\n",
    "def save_data_as_json(data, filename):\n",
    "    with open(filename, 'w') as json_file:\n",
    "        json.dump(data, json_file, indent=4)\n",
    "\n",
    "# Save data as JSON file\n",
    "save_data_as_json(keycontent, 'data.json')"
   ]
  }
 ],
 "metadata": {
  "kernelspec": {
   "display_name": "Python 3 (ipykernel)",
   "language": "python",
   "name": "python3"
  },
  "language_info": {
   "codemirror_mode": {
    "name": "ipython",
    "version": 3
   },
   "file_extension": ".py",
   "mimetype": "text/x-python",
   "name": "python",
   "nbconvert_exporter": "python",
   "pygments_lexer": "ipython3",
   "version": "3.9.12"
  }
 },
 "nbformat": 4,
 "nbformat_minor": 5
}
