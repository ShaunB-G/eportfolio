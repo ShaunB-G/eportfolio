{
 "cells": [
  {
   "cell_type": "code",
   "execution_count": 2,
   "id": "36f94875",
   "metadata": {},
   "outputs": [
    {
     "name": "stdout",
     "output_type": "stream",
     "text": [
      "^C\n"
     ]
    }
   ],
   "source": [
    "!pip uninstall mysql-connector"
   ]
  },
  {
   "cell_type": "code",
   "execution_count": 3,
   "id": "lQNmxjp_8b53",
   "metadata": {
    "colab": {
     "base_uri": "https://localhost:8080/"
    },
    "id": "lQNmxjp_8b53",
    "outputId": "3fe08970-3d47-4bb8-f256-3d0bc8813daa"
   },
   "outputs": [
    {
     "name": "stdout",
     "output_type": "stream",
     "text": [
      "Requirement already satisfied: mysql-connector-python in c:\\users\\public\\anaconda3\\lib\\site-packages (8.0.33)\n",
      "Requirement already satisfied: protobuf<=3.20.3,>=3.11.0 in c:\\users\\public\\anaconda3\\lib\\site-packages (from mysql-connector-python) (3.20.3)\n"
     ]
    }
   ],
   "source": [
    "\n",
    "!pip install mysql-connector-python"
   ]
  },
  {
   "cell_type": "code",
   "execution_count": 4,
   "id": "7071eeb4",
   "metadata": {
    "colab": {
     "base_uri": "https://localhost:8080/",
     "height": 380
    },
    "id": "7071eeb4",
    "outputId": "0b217068-d7e1-46b3-f28e-f9f35ea6b37f"
   },
   "outputs": [],
   "source": [
    "import mysql.connector\n",
    "\n",
    "\"\"\"mydb = mysql.connector.connect(\n",
    "  host=\"sql8.freesqldatabase.com\",\n",
    "  user=\"sql8629511\",\n",
    "  password=\"piCnnyCvCH\"\n",
    ")\"\"\"\n",
    "\n",
    "mydb = mysql.connector.connect(\n",
    "  host=\"127.0.0.1\",\n",
    "  user=\"root\",\n",
    "  password=\"root\", auth_plugin=\"mysql_native_password\"\n",
    ")\n",
    "\n",
    "mycursor = mydb.cursor()\n",
    "\n"
   ]
  },
  {
   "cell_type": "code",
   "execution_count": 5,
   "id": "27560f4d",
   "metadata": {
    "colab": {
     "base_uri": "https://localhost:8080/"
    },
    "id": "27560f4d",
    "outputId": "e7353b19-d96a-4e6f-c426-c98ea751ce3c"
   },
   "outputs": [
    {
     "name": "stdout",
     "output_type": "stream",
     "text": [
      "('dreamlandmanor',)\n",
      "('information_schema',)\n",
      "('mysql',)\n",
      "('performance_schema',)\n",
      "('sys',)\n"
     ]
    }
   ],
   "source": [
    "##Create db /already available\n",
    "mycursor.execute(\"CREATE DATABASE DreamlandManor\")\n",
    "\n",
    "#Check db was created\n",
    "mycursor.execute(\"SHOW DATABASES\")\n",
    "\n",
    "for x in mycursor:\n",
    "  print(x)"
   ]
  },
  {
   "cell_type": "code",
   "execution_count": 72,
   "id": "75de5f69",
   "metadata": {
    "id": "75de5f69"
   },
   "outputs": [],
   "source": [
    "##Connect to db\n",
    "\"\"\"mydb = mysql.connector.connect(\n",
    "  host=\"sql8.freesqldatabase.com\",\n",
    "  user=\"sql8629511\",\n",
    "  password=\"piCnnyCvCH\",\n",
    "  database=\"sql8629511\"\n",
    ")\"\"\"\n",
    "mydb = mysql.connector.connect(\n",
    "  host=\"127.0.0.1\",\n",
    "  user=\"root\",\n",
    "  password=\"root\", \n",
    "  auth_plugin=\"mysql_native_password\",\n",
    "  database=\"dreamlandmanor\"\n",
    ")\n",
    "\n",
    "mycursor = mydb.cursor()"
   ]
  },
  {
   "cell_type": "code",
   "execution_count": 8,
   "id": "5971a18c",
   "metadata": {
    "colab": {
     "base_uri": "https://localhost:8080/"
    },
    "id": "5971a18c",
    "outputId": "f3bf4fc2-fa03-4fbf-dbb9-de390796bb10"
   },
   "outputs": [
    {
     "name": "stdout",
     "output_type": "stream",
     "text": [
      "('amenities',)\n",
      "('billing',)\n",
      "('gallery',)\n",
      "('hotel',)\n",
      "('identities',)\n",
      "('reservations',)\n",
      "('rooms',)\n",
      "('roomsamentities',)\n",
      "('users',)\n",
      "('usersidentities',)\n"
     ]
    }
   ],
   "source": [
    "##Create tables\n",
    "mycursor.execute(\"CREATE TABLE Hotel (id INT AUTO_INCREMENT PRIMARY KEY, name VARCHAR(255), description varchar(255), rating varchar(255), email varchar(255),country varchar(255), city varchar(255), street varchar(255), phone varchar(255))\")\n",
    "mycursor.execute(\"CREATE TABLE Rooms (id INT AUTO_INCREMENT PRIMARY KEY, hotelId integer, shortname varchar(255), status varchar(255), price float, type varchar(255), capacity integer, desription varchar(255))\")\n",
    "mycursor.execute(\"CREATE TABLE Amenities (id INT AUTO_INCREMENT PRIMARY KEY, name VARCHAR(255))\")\n",
    "mycursor.execute(\"CREATE TABLE Users (id INT AUTO_INCREMENT PRIMARY KEY, firstName varchar(255), lastName varchar(255))\")\n",
    "mycursor.execute(\"CREATE TABLE Gallery (id INT AUTO_INCREMENT PRIMARY KEY, roomId integer, type varchar(255), url varchar(255))\")\n",
    "mycursor.execute(\"CREATE TABLE RoomsAmentities (roomid INT AUTO_INCREMENT PRIMARY KEY, amenityID integer)\")\n",
    "mycursor.execute(\"CREATE TABLE Reservations (id INT AUTO_INCREMENT PRIMARY KEY, roomId integer, userId integer, checkin date, checkout date, status varchar(255), notes varchar(255), FOREIGN KEY (roomId) REFERENCES Rooms (id))\")\n",
    "mycursor.execute(\"CREATE TABLE UsersIdentities (userId INT AUTO_INCREMENT PRIMARY KEY, identityId integer, FOREIGN KEY (userId) REFERENCES Users (id))\")\n",
    "mycursor.execute(\"CREATE TABLE Billing (id INT AUTO_INCREMENT PRIMARY KEY, reservationId integer, userId integer, billNumber varchar(255), amount float, status varchar(255), billed date, paid date, paymentReference varchar(255), receiptNumber varchar(255))\")\n",
    "mycursor.execute(\"CREATE TABLE Identities (id INT AUTO_INCREMENT PRIMARY KEY, hotelId integer, email varchar(255), password varchar(255), role varchar(255))\")\n",
    "\n",
    "#Check tables were created\n",
    "mycursor.execute(\"SHOW TABLES\")\n",
    "for x in mycursor:\n",
    "  print(x)"
   ]
  },
  {
   "cell_type": "code",
   "execution_count": 9,
   "id": "0b1bdea8",
   "metadata": {
    "id": "0b1bdea8"
   },
   "outputs": [],
   "source": [
    "mycursor.execute(\"ALTER TABLE Rooms ADD FOREIGN KEY (hotelId) REFERENCES Hotel (id)\")\n",
    "\n",
    "mycursor.execute(\"ALTER TABLE Identities ADD FOREIGN KEY (hotelId) REFERENCES Hotel (id)\")\n",
    "\n",
    "mycursor.execute(\"ALTER TABLE UsersIdentities ADD FOREIGN KEY (userId) REFERENCES Users (id)\")\n",
    "\n",
    "mycursor.execute(\"ALTER TABLE UsersIdentities ADD FOREIGN KEY (identityId) REFERENCES Identities (id)\")\n",
    "\n",
    "mycursor.execute(\"ALTER TABLE RoomsAmentities ADD FOREIGN KEY (roomId) REFERENCES Rooms (id)\")\n",
    "\n",
    "mycursor.execute(\"ALTER TABLE RoomsAmentities ADD FOREIGN KEY (amenityID) REFERENCES Amenities (id)\")\n",
    "\n",
    "mycursor.execute(\"ALTER TABLE Reservations ADD FOREIGN KEY (roomId) REFERENCES Rooms (id)\")\n",
    "\n",
    "mycursor.execute(\"ALTER TABLE Reservations ADD FOREIGN KEY (userId) REFERENCES Users (id)\")\n",
    "\n",
    "mycursor.execute(\"ALTER TABLE Billing ADD FOREIGN KEY (reservationId) REFERENCES Reservations (id)\")\n",
    "\n",
    "mycursor.execute(\"ALTER TABLE Gallery ADD FOREIGN KEY (roomId) REFERENCES Rooms (id)\")\n"
   ]
  },
  {
   "cell_type": "code",
   "execution_count": 22,
   "id": "669a062d",
   "metadata": {
    "id": "669a062d"
   },
   "outputs": [],
   "source": [
    "\"\"\"Issue1: Column name correction completed 'Note: Run Only Once'\"\"\"\n",
    "\"\"\"mycursor.execute(\"ALTER TABLE Rooms RENAME COLUMN desription TO  description\")\"\"\"\n",
    "\"\"\"mycursor.execute(\"ALTER TABLE Hotel MODIFY description VARCHAR(2048)\")\"\"\""
   ]
  },
  {
   "cell_type": "code",
   "execution_count": 48,
   "id": "d094a96f",
   "metadata": {},
   "outputs": [
    {
     "data": {
      "text/plain": [
       "(119390, 31)"
      ]
     },
     "execution_count": 48,
     "metadata": {},
     "output_type": "execute_result"
    }
   ],
   "source": [
    "\"\"\"Load the Kaggle dataset csv\"\"\"\n",
    "import pandas as pd\n",
    "\n",
    "booking_df = pd.read_csv('hotel_bookings.csv', header=0, index_col=0)\n",
    "booking_df.shape"
   ]
  },
  {
   "cell_type": "code",
   "execution_count": 49,
   "id": "c6ce14f3",
   "metadata": {},
   "outputs": [
    {
     "data": {
      "text/html": [
       "<div>\n",
       "<style scoped>\n",
       "    .dataframe tbody tr th:only-of-type {\n",
       "        vertical-align: middle;\n",
       "    }\n",
       "\n",
       "    .dataframe tbody tr th {\n",
       "        vertical-align: top;\n",
       "    }\n",
       "\n",
       "    .dataframe thead th {\n",
       "        text-align: right;\n",
       "    }\n",
       "</style>\n",
       "<table border=\"1\" class=\"dataframe\">\n",
       "  <thead>\n",
       "    <tr style=\"text-align: right;\">\n",
       "      <th></th>\n",
       "      <th>is_canceled</th>\n",
       "      <th>lead_time</th>\n",
       "      <th>arrival_date_year</th>\n",
       "      <th>arrival_date_month</th>\n",
       "      <th>arrival_date_week_number</th>\n",
       "      <th>arrival_date_day_of_month</th>\n",
       "      <th>stays_in_weekend_nights</th>\n",
       "      <th>stays_in_week_nights</th>\n",
       "      <th>adults</th>\n",
       "      <th>children</th>\n",
       "      <th>...</th>\n",
       "      <th>deposit_type</th>\n",
       "      <th>agent</th>\n",
       "      <th>company</th>\n",
       "      <th>days_in_waiting_list</th>\n",
       "      <th>customer_type</th>\n",
       "      <th>adr</th>\n",
       "      <th>required_car_parking_spaces</th>\n",
       "      <th>total_of_special_requests</th>\n",
       "      <th>reservation_status</th>\n",
       "      <th>reservation_status_date</th>\n",
       "    </tr>\n",
       "    <tr>\n",
       "      <th>hotel</th>\n",
       "      <th></th>\n",
       "      <th></th>\n",
       "      <th></th>\n",
       "      <th></th>\n",
       "      <th></th>\n",
       "      <th></th>\n",
       "      <th></th>\n",
       "      <th></th>\n",
       "      <th></th>\n",
       "      <th></th>\n",
       "      <th></th>\n",
       "      <th></th>\n",
       "      <th></th>\n",
       "      <th></th>\n",
       "      <th></th>\n",
       "      <th></th>\n",
       "      <th></th>\n",
       "      <th></th>\n",
       "      <th></th>\n",
       "      <th></th>\n",
       "      <th></th>\n",
       "    </tr>\n",
       "  </thead>\n",
       "  <tbody>\n",
       "    <tr>\n",
       "      <th>Resort Hotel</th>\n",
       "      <td>0</td>\n",
       "      <td>342</td>\n",
       "      <td>2015</td>\n",
       "      <td>July</td>\n",
       "      <td>27</td>\n",
       "      <td>1</td>\n",
       "      <td>0</td>\n",
       "      <td>0</td>\n",
       "      <td>2</td>\n",
       "      <td>0.0</td>\n",
       "      <td>...</td>\n",
       "      <td>No Deposit</td>\n",
       "      <td>NaN</td>\n",
       "      <td>NaN</td>\n",
       "      <td>0</td>\n",
       "      <td>Transient</td>\n",
       "      <td>0.0</td>\n",
       "      <td>0</td>\n",
       "      <td>0</td>\n",
       "      <td>Check-Out</td>\n",
       "      <td>2015-07-01</td>\n",
       "    </tr>\n",
       "    <tr>\n",
       "      <th>Resort Hotel</th>\n",
       "      <td>0</td>\n",
       "      <td>737</td>\n",
       "      <td>2015</td>\n",
       "      <td>July</td>\n",
       "      <td>27</td>\n",
       "      <td>1</td>\n",
       "      <td>0</td>\n",
       "      <td>0</td>\n",
       "      <td>2</td>\n",
       "      <td>0.0</td>\n",
       "      <td>...</td>\n",
       "      <td>No Deposit</td>\n",
       "      <td>NaN</td>\n",
       "      <td>NaN</td>\n",
       "      <td>0</td>\n",
       "      <td>Transient</td>\n",
       "      <td>0.0</td>\n",
       "      <td>0</td>\n",
       "      <td>0</td>\n",
       "      <td>Check-Out</td>\n",
       "      <td>2015-07-01</td>\n",
       "    </tr>\n",
       "    <tr>\n",
       "      <th>Resort Hotel</th>\n",
       "      <td>0</td>\n",
       "      <td>7</td>\n",
       "      <td>2015</td>\n",
       "      <td>July</td>\n",
       "      <td>27</td>\n",
       "      <td>1</td>\n",
       "      <td>0</td>\n",
       "      <td>1</td>\n",
       "      <td>1</td>\n",
       "      <td>0.0</td>\n",
       "      <td>...</td>\n",
       "      <td>No Deposit</td>\n",
       "      <td>NaN</td>\n",
       "      <td>NaN</td>\n",
       "      <td>0</td>\n",
       "      <td>Transient</td>\n",
       "      <td>75.0</td>\n",
       "      <td>0</td>\n",
       "      <td>0</td>\n",
       "      <td>Check-Out</td>\n",
       "      <td>2015-07-02</td>\n",
       "    </tr>\n",
       "    <tr>\n",
       "      <th>Resort Hotel</th>\n",
       "      <td>0</td>\n",
       "      <td>13</td>\n",
       "      <td>2015</td>\n",
       "      <td>July</td>\n",
       "      <td>27</td>\n",
       "      <td>1</td>\n",
       "      <td>0</td>\n",
       "      <td>1</td>\n",
       "      <td>1</td>\n",
       "      <td>0.0</td>\n",
       "      <td>...</td>\n",
       "      <td>No Deposit</td>\n",
       "      <td>304.0</td>\n",
       "      <td>NaN</td>\n",
       "      <td>0</td>\n",
       "      <td>Transient</td>\n",
       "      <td>75.0</td>\n",
       "      <td>0</td>\n",
       "      <td>0</td>\n",
       "      <td>Check-Out</td>\n",
       "      <td>2015-07-02</td>\n",
       "    </tr>\n",
       "    <tr>\n",
       "      <th>Resort Hotel</th>\n",
       "      <td>0</td>\n",
       "      <td>14</td>\n",
       "      <td>2015</td>\n",
       "      <td>July</td>\n",
       "      <td>27</td>\n",
       "      <td>1</td>\n",
       "      <td>0</td>\n",
       "      <td>2</td>\n",
       "      <td>2</td>\n",
       "      <td>0.0</td>\n",
       "      <td>...</td>\n",
       "      <td>No Deposit</td>\n",
       "      <td>240.0</td>\n",
       "      <td>NaN</td>\n",
       "      <td>0</td>\n",
       "      <td>Transient</td>\n",
       "      <td>98.0</td>\n",
       "      <td>0</td>\n",
       "      <td>1</td>\n",
       "      <td>Check-Out</td>\n",
       "      <td>2015-07-03</td>\n",
       "    </tr>\n",
       "  </tbody>\n",
       "</table>\n",
       "<p>5 rows × 31 columns</p>\n",
       "</div>"
      ],
      "text/plain": [
       "              is_canceled  lead_time  arrival_date_year arrival_date_month  \\\n",
       "hotel                                                                        \n",
       "Resort Hotel            0        342               2015               July   \n",
       "Resort Hotel            0        737               2015               July   \n",
       "Resort Hotel            0          7               2015               July   \n",
       "Resort Hotel            0         13               2015               July   \n",
       "Resort Hotel            0         14               2015               July   \n",
       "\n",
       "              arrival_date_week_number  arrival_date_day_of_month  \\\n",
       "hotel                                                               \n",
       "Resort Hotel                        27                          1   \n",
       "Resort Hotel                        27                          1   \n",
       "Resort Hotel                        27                          1   \n",
       "Resort Hotel                        27                          1   \n",
       "Resort Hotel                        27                          1   \n",
       "\n",
       "              stays_in_weekend_nights  stays_in_week_nights  adults  children  \\\n",
       "hotel                                                                           \n",
       "Resort Hotel                        0                     0       2       0.0   \n",
       "Resort Hotel                        0                     0       2       0.0   \n",
       "Resort Hotel                        0                     1       1       0.0   \n",
       "Resort Hotel                        0                     1       1       0.0   \n",
       "Resort Hotel                        0                     2       2       0.0   \n",
       "\n",
       "              ...  deposit_type  agent company days_in_waiting_list  \\\n",
       "hotel         ...                                                     \n",
       "Resort Hotel  ...    No Deposit    NaN     NaN                    0   \n",
       "Resort Hotel  ...    No Deposit    NaN     NaN                    0   \n",
       "Resort Hotel  ...    No Deposit    NaN     NaN                    0   \n",
       "Resort Hotel  ...    No Deposit  304.0     NaN                    0   \n",
       "Resort Hotel  ...    No Deposit  240.0     NaN                    0   \n",
       "\n",
       "             customer_type   adr  required_car_parking_spaces  \\\n",
       "hotel                                                           \n",
       "Resort Hotel     Transient   0.0                            0   \n",
       "Resort Hotel     Transient   0.0                            0   \n",
       "Resort Hotel     Transient  75.0                            0   \n",
       "Resort Hotel     Transient  75.0                            0   \n",
       "Resort Hotel     Transient  98.0                            0   \n",
       "\n",
       "              total_of_special_requests reservation_status  \\\n",
       "hotel                                                        \n",
       "Resort Hotel                          0          Check-Out   \n",
       "Resort Hotel                          0          Check-Out   \n",
       "Resort Hotel                          0          Check-Out   \n",
       "Resort Hotel                          0          Check-Out   \n",
       "Resort Hotel                          1          Check-Out   \n",
       "\n",
       "             reservation_status_date  \n",
       "hotel                                 \n",
       "Resort Hotel              2015-07-01  \n",
       "Resort Hotel              2015-07-01  \n",
       "Resort Hotel              2015-07-02  \n",
       "Resort Hotel              2015-07-02  \n",
       "Resort Hotel              2015-07-03  \n",
       "\n",
       "[5 rows x 31 columns]"
      ]
     },
     "execution_count": 49,
     "metadata": {},
     "output_type": "execute_result"
    }
   ],
   "source": [
    "booking_df.head()"
   ]
  },
  {
   "cell_type": "code",
   "execution_count": 50,
   "id": "02b13ecc",
   "metadata": {
    "scrolled": true
   },
   "outputs": [
    {
     "data": {
      "text/html": [
       "<div>\n",
       "<style scoped>\n",
       "    .dataframe tbody tr th:only-of-type {\n",
       "        vertical-align: middle;\n",
       "    }\n",
       "\n",
       "    .dataframe tbody tr th {\n",
       "        vertical-align: top;\n",
       "    }\n",
       "\n",
       "    .dataframe thead th {\n",
       "        text-align: right;\n",
       "    }\n",
       "</style>\n",
       "<table border=\"1\" class=\"dataframe\">\n",
       "  <thead>\n",
       "    <tr style=\"text-align: right;\">\n",
       "      <th></th>\n",
       "      <th>adults</th>\n",
       "      <th>children</th>\n",
       "      <th>country</th>\n",
       "      <th>reserved_room_type</th>\n",
       "      <th>reservation_status</th>\n",
       "      <th>reservation_status_date</th>\n",
       "      <th>arrival_date</th>\n",
       "    </tr>\n",
       "    <tr>\n",
       "      <th>hotel</th>\n",
       "      <th></th>\n",
       "      <th></th>\n",
       "      <th></th>\n",
       "      <th></th>\n",
       "      <th></th>\n",
       "      <th></th>\n",
       "      <th></th>\n",
       "    </tr>\n",
       "  </thead>\n",
       "  <tbody>\n",
       "    <tr>\n",
       "      <th>Resort Hotel</th>\n",
       "      <td>2</td>\n",
       "      <td>0.0</td>\n",
       "      <td>PRT</td>\n",
       "      <td>C</td>\n",
       "      <td>Check-Out</td>\n",
       "      <td>2015-07-01</td>\n",
       "      <td>2015-07-01</td>\n",
       "    </tr>\n",
       "    <tr>\n",
       "      <th>Resort Hotel</th>\n",
       "      <td>2</td>\n",
       "      <td>0.0</td>\n",
       "      <td>PRT</td>\n",
       "      <td>C</td>\n",
       "      <td>Check-Out</td>\n",
       "      <td>2015-07-01</td>\n",
       "      <td>2015-07-01</td>\n",
       "    </tr>\n",
       "    <tr>\n",
       "      <th>Resort Hotel</th>\n",
       "      <td>1</td>\n",
       "      <td>0.0</td>\n",
       "      <td>GBR</td>\n",
       "      <td>A</td>\n",
       "      <td>Check-Out</td>\n",
       "      <td>2015-07-02</td>\n",
       "      <td>2015-07-01</td>\n",
       "    </tr>\n",
       "    <tr>\n",
       "      <th>Resort Hotel</th>\n",
       "      <td>1</td>\n",
       "      <td>0.0</td>\n",
       "      <td>GBR</td>\n",
       "      <td>A</td>\n",
       "      <td>Check-Out</td>\n",
       "      <td>2015-07-02</td>\n",
       "      <td>2015-07-01</td>\n",
       "    </tr>\n",
       "    <tr>\n",
       "      <th>Resort Hotel</th>\n",
       "      <td>2</td>\n",
       "      <td>0.0</td>\n",
       "      <td>GBR</td>\n",
       "      <td>A</td>\n",
       "      <td>Check-Out</td>\n",
       "      <td>2015-07-03</td>\n",
       "      <td>2015-07-01</td>\n",
       "    </tr>\n",
       "  </tbody>\n",
       "</table>\n",
       "</div>"
      ],
      "text/plain": [
       "              adults  children country reserved_room_type reservation_status  \\\n",
       "hotel                                                                          \n",
       "Resort Hotel       2       0.0     PRT                  C          Check-Out   \n",
       "Resort Hotel       2       0.0     PRT                  C          Check-Out   \n",
       "Resort Hotel       1       0.0     GBR                  A          Check-Out   \n",
       "Resort Hotel       1       0.0     GBR                  A          Check-Out   \n",
       "Resort Hotel       2       0.0     GBR                  A          Check-Out   \n",
       "\n",
       "             reservation_status_date arrival_date  \n",
       "hotel                                              \n",
       "Resort Hotel              2015-07-01   2015-07-01  \n",
       "Resort Hotel              2015-07-01   2015-07-01  \n",
       "Resort Hotel              2015-07-02   2015-07-01  \n",
       "Resort Hotel              2015-07-02   2015-07-01  \n",
       "Resort Hotel              2015-07-03   2015-07-01  "
      ]
     },
     "execution_count": 50,
     "metadata": {},
     "output_type": "execute_result"
    }
   ],
   "source": [
    "booking_df.drop(columns=['is_canceled','meal','babies','is_repeated_guest','booking_changes','deposit_type', 'lead_time','arrival_date_week_number','stays_in_weekend_nights','stays_in_week_nights','agent','company','days_in_waiting_list','required_car_parking_spaces','market_segment','adr','customer_type','assigned_room_type','distribution_channel','previous_bookings_not_canceled','previous_cancellations','total_of_special_requests'],inplace=True)\n",
    "\n",
    "# Convert columns to string type\n",
    "booking_df['arrival_date_year'] = booking_df['arrival_date_year'].astype(str)\n",
    "booking_df['arrival_date_month'] = booking_df['arrival_date_month'].astype(str)\n",
    "booking_df['arrival_date_day_of_month'] = booking_df['arrival_date_day_of_month'].astype(str)\n",
    "\n",
    "# Concatenate columns and convert to datetime\n",
    "booking_df['arrival_date'] = pd.to_datetime(booking_df['arrival_date_year'] + '-' + booking_df['arrival_date_month'] + '-' + booking_df['arrival_date_day_of_month'])\n",
    "\n",
    "# Drop the individual date columns\n",
    "booking_df.drop(['arrival_date_year', 'arrival_date_month', 'arrival_date_day_of_month'], axis=1, inplace=True)\n",
    "booking_df.head()"
   ]
  },
  {
   "cell_type": "code",
   "execution_count": 51,
   "id": "e25701a7",
   "metadata": {},
   "outputs": [
    {
     "name": "stdout",
     "output_type": "stream",
     "text": [
      "['C' 'A' 'D' 'E' 'G' 'F' 'H' 'L' 'P' 'B']\n"
     ]
    }
   ],
   "source": [
    "# Get the unique room types\n",
    "unique_room_types = booking_df['reserved_room_type'].unique()\n",
    "\n",
    "# Print the unique room types\n",
    "print(unique_room_types)"
   ]
  },
  {
   "cell_type": "code",
   "execution_count": 52,
   "id": "22375830",
   "metadata": {},
   "outputs": [],
   "source": [
    "# Truncate existing tables\n",
    "mycursor.execute(\"SET FOREIGN_KEY_CHECKS = 0\")\n",
    "mycursor.execute(\"TRUNCATE TABLE Hotel\")\n",
    "mycursor.execute(\"TRUNCATE TABLE Rooms\")\n",
    "mycursor.execute(\"TRUNCATE TABLE Amenities\")\n",
    "mycursor.execute(\"TRUNCATE TABLE Users\")\n",
    "mycursor.execute(\"TRUNCATE TABLE Gallery\")\n",
    "mycursor.execute(\"TRUNCATE TABLE RoomsAmentities\")\n",
    "mycursor.execute(\"TRUNCATE TABLE Reservations\")\n",
    "mycursor.execute(\"TRUNCATE TABLE UsersIdentities\")\n",
    "mycursor.execute(\"TRUNCATE TABLE Billing\")\n",
    "mycursor.execute(\"TRUNCATE TABLE Identities\")\n",
    "mycursor.execute(\"SET FOREIGN_KEY_CHECKS = 1\")"
   ]
  },
  {
   "cell_type": "code",
   "execution_count": 53,
   "id": "5ZwNqMcpPc_v",
   "metadata": {
    "colab": {
     "base_uri": "https://localhost:8080/"
    },
    "id": "5ZwNqMcpPc_v",
    "outputId": "00d02dd3-353e-46b4-837a-cb988d0a2e6c"
   },
   "outputs": [
    {
     "name": "stdout",
     "output_type": "stream",
     "text": [
      "1\n",
      "(1, 'Dreamland Manor', 'Dreamland Manor is a luxurious hotel dedicated to providing exceptional hospitality experiences. Located in a prime location, our hotel offers a perfect blend of comfort, elegance, and top-notch services. With our team of dedicated professionals, we strive to create memorable stays for our guests, ensuring their utmost satisfaction. Whether you are here for a relaxing vacation, a business trip, or a special occasion, Dreamland Manor promises an unforgettable stay in a tranquil and inviting atmosphere. Discover unparalleled comfort and personalized service at Dreamland Manor, where we turn your dreams into reality.', '5', 'info@dreamlandmanor.com', 'United Kingdom', 'London', 'LN 01 London street, UK', '+442342323432')\n"
     ]
    }
   ],
   "source": [
    "hotel_name = \"Dreamland Manor\"\n",
    "hotel_description = \"Dreamland Manor is a luxurious hotel dedicated to providing exceptional hospitality experiences. Located in a prime location, our hotel offers a perfect blend of comfort, elegance, and top-notch services. With our team of dedicated professionals, we strive to create memorable stays for our guests, ensuring their utmost satisfaction. Whether you are here for a relaxing vacation, a business trip, or a special occasion, Dreamland Manor promises an unforgettable stay in a tranquil and inviting atmosphere. Discover unparalleled comfort and personalized service at Dreamland Manor, where we turn your dreams into reality.\"\n",
    "hotel_rating = \"5\"\n",
    "hotel_email = \"info@dreamlandmanor.com\"\n",
    "hotel_country = \"United Kingdom\"\n",
    "hotel_city = \"London\"\n",
    "hotel_street = \"LN 01 London street, UK\"\n",
    "hotel_phone = \"+442342323432\"\n",
    "mycursor.execute(f\"INSERT INTO Hotel (name, description, rating, email, country, city, street, phone) VALUES ('{hotel_name}', '{hotel_description}', '{hotel_rating}', '{hotel_email}', '{hotel_country}', '{hotel_city}', '{hotel_street}', '{hotel_phone}')\")\n",
    "\n",
    "\n",
    "mycursor.execute(\"SELECT * FROM Hotel\")\n",
    "\n",
    "hotel = mycursor.fetchall()\n",
    "hotel_id = hotel[0][0]\n",
    "print(hotel_id)\n",
    "for x in hotel:\n",
    "  print(x)"
   ]
  },
  {
   "cell_type": "code",
   "execution_count": 55,
   "id": "LNHX4u9tPo-P",
   "metadata": {
    "colab": {
     "base_uri": "https://localhost:8080/"
    },
    "id": "LNHX4u9tPo-P",
    "outputId": "e882d0e7-326a-4e3d-f1e2-07d13d2ecc4e"
   },
   "outputs": [
    {
     "name": "stdout",
     "output_type": "stream",
     "text": [
      "Collecting Faker\n",
      "  Downloading Faker-19.1.0-py3-none-any.whl (1.7 MB)\n",
      "     ---------------------------------------- 1.7/1.7 MB 518.6 kB/s eta 0:00:00\n",
      "Requirement already satisfied: python-dateutil>=2.4 in c:\\users\\public\\anaconda3\\lib\\site-packages (from Faker) (2.8.2)\n",
      "Requirement already satisfied: six>=1.5 in c:\\users\\public\\anaconda3\\lib\\site-packages (from python-dateutil>=2.4->Faker) (1.16.0)\n",
      "Installing collected packages: Faker\n",
      "Successfully installed Faker-19.1.0\n"
     ]
    }
   ],
   "source": [
    "#Populating tables with data\n",
    "#install the faker package to load test data for performance test phase\n",
    "!pip install Faker\n",
    "\n",
    "# Import the necessary packages\n",
    "from faker import Faker\n",
    "import datetime\n",
    "\n",
    "# Create an instance of the Faker generator\n",
    "fake = Faker()"
   ]
  },
  {
   "cell_type": "code",
   "execution_count": 56,
   "id": "29b34681",
   "metadata": {},
   "outputs": [
    {
     "name": "stdout",
     "output_type": "stream",
     "text": [
      "Rooms Count: 10\n"
     ]
    }
   ],
   "source": [
    "# Insert statement for Rooms table\n",
    "for room in unique_room_types:\n",
    "    room_hotel_id = hotel_id #forign key to hotel\n",
    "    room_shortname = room #fake.random_letter() + fake.random_letter()\n",
    "    room_status = fake.random_element(elements=('Available', 'Occupied', 'Maintenance'))\n",
    "    room_price = fake.random_int(min=50, max=200)\n",
    "    room_type = fake.random_element(elements=('Standard', 'Deluxe', 'Suite'))\n",
    "    room_capacity = fake.random_int(min=1, max=4)\n",
    "    room_description = fake.sentence()\n",
    "    roomcursor = mydb.cursor()\n",
    "    roomcursor.execute(f\"INSERT INTO Rooms (hotelId, shortname, status, price, type, capacity, description) VALUES ('{room_hotel_id}', '{room_shortname}', '{room_status}', '{room_price}', '{room_type}', '{room_capacity}', '{room_description}')\")\n",
    "\n",
    "# Rooms table\n",
    "roomcursor.execute(\"SELECT COUNT(*) FROM Rooms\")\n",
    "rooms_count = roomcursor.fetchone()[0]\n",
    "print(\"Rooms Count:\", rooms_count)"
   ]
  },
  {
   "cell_type": "code",
   "execution_count": 66,
   "id": "0IK5lEXvPAYT",
   "metadata": {
    "id": "0IK5lEXvPAYT"
   },
   "outputs": [],
   "source": [
    "# Create and execute insert statements to populate the tables with 10 records\n",
    "for index, row in booking_df.iterrows():\n",
    "    # Insert statement for Rooms table\n",
    "    \"\"\"room_hotel_id = hotel_id #forign key to hotel\n",
    "    room_shortname = fake.random_letter() + fake.random_letter()\n",
    "    room_status = fake.random_element(elements=('Available', 'Occupied', 'Maintenance'))\n",
    "    room_price = fake.random_int(min=50, max=200)\n",
    "    room_type = fake.random_element(elements=('Standard', 'Deluxe', 'Suite'))\n",
    "    room_capacity = fake.random_int(min=1, max=4)\n",
    "    room_description = fake.sentence()\n",
    "    roomcursor = mydb.cursor()\n",
    "    roomcursor.execute(f\"INSERT INTO Rooms (hotelId, shortname, status, price, type, capacity, description) VALUES ('{room_hotel_id}', '{room_shortname}', '{room_status}', '{room_price}', '{room_type}', '{room_capacity}', '{room_description}')\")\n",
    "\"\"\"\n",
    "    # Get the room record\n",
    "    roomcursor.execute(f\"SELECT id FROM Rooms WHERE shortname= '{row['reserved_room_type']}'\")\n",
    "    rooms_id = roomcursor.fetchone()[0]\n",
    "    \"\"\"print(\"Room Id:\",rooms_id)\"\"\"\n",
    "    \n",
    "    # Insert statement for Gallery table\n",
    "    gallery_room_id = rooms_id\n",
    "    gallery_type = fake.random_element(elements=('Image', 'Video'))\n",
    "    gallery_url = fake.url()\n",
    "    mycursor.execute(f\"INSERT INTO Gallery (roomId, type, url) VALUES ('{gallery_room_id}', '{gallery_type}', '{gallery_url}')\")\n",
    "\n",
    "    # Insert statement for Amenities table\n",
    "    amenity_name = fake.word()\n",
    "    amenitycursor = mydb.cursor()\n",
    "    amenitycursor.execute(f\"INSERT INTO Amenities (name) VALUES ('{amenity_name}')\")\n",
    "\n",
    "    # Insert statement for RoomsAmentities table\n",
    "    #mycursor.execute(f\"INSERT INTO RoomsAmentities (roomid, amenityID) VALUES ('{rooms_id}', '{amenitycursor.lastrowid}')\")\n",
    "\n",
    "    # Insert statement for Users table\n",
    "    user_first_name = fake.first_name()\n",
    "    user_last_name = fake.last_name()\n",
    "    usercursor = mydb.cursor()\n",
    "    usercursor.execute(f\"INSERT INTO Users (firstName, lastName) VALUES ('{user_first_name}', '{user_last_name}')\")\n",
    "\n",
    "    # Insert statement for Reservations table\n",
    "    reservation_room_id = rooms_id\n",
    "    reservation_user_id = usercursor.lastrowid\n",
    "    reservation_checkin = row['arrival_date'] #fake.date_between(start_date='-1y', end_date='+1y')\n",
    "    reservation_checkout = fake.date_between_dates(date_start=reservation_checkin, date_end=reservation_checkin+datetime.timedelta(days=5))\n",
    "    reservation_status = row['reservation_status'] #fake.random_element(elements=('Confirmed', 'Pending', 'Cancelled'))\n",
    "    reservation_notes = fake.sentence()\n",
    "    reservationcursor = mydb.cursor()\n",
    "    reservationcursor.execute(f\"INSERT INTO Reservations (roomId, userId, checkin, checkout, status, notes) VALUES ('{reservation_room_id}', '{reservation_user_id}', '{reservation_checkin}', '{reservation_checkout}', '{reservation_status}', '{reservation_notes}')\")\n",
    "\n",
    "    # Insert statement for UsersIdentities table\n",
    "    #user_identity_id = fake.random_int(min=1, max=100)\n",
    "    #mycursor.execute(f\"INSERT INTO UsersIdentities (userId, identityId) VALUES ('{reservation_user_id}', '{user_identity_id}')\")\n",
    "\n",
    "    # Insert statement for Billing table\n",
    "    billing_reservation_id = reservationcursor.lastrowid\n",
    "    billing_user_id = usercursor.lastrowid\n",
    "    billing_number = fake.random_number(digits=6)\n",
    "    billing_amount = fake.random_int(min=100, max=500)\n",
    "    billing_status = fake.random_element(elements=('Paid', 'Unpaid'))\n",
    "    billing_billed = fake.date_between(start_date='-1y', end_date='today')\n",
    "    billing_paid = fake.date_between_dates(date_start=billing_billed, date_end=billing_billed+datetime.timedelta(days=10))\n",
    "    billing_reference = fake.random_number(digits=6)\n",
    "    billing_receipt = fake.random_number(digits=6)\n",
    "    mycursor.execute(f\"INSERT INTO Billing (reservationId, userId, billNumber, amount, status, billed, paid, paymentReference, receiptNumber) VALUES ('{billing_reservation_id}', '{billing_user_id}', '{billing_number}', '{billing_amount}', '{billing_status}', '{billing_billed}', '{billing_paid}', '{billing_reference}', '{billing_receipt}')\")\n",
    "\n",
    "    # Insert statement for Identities table\n",
    "    identity_hotel_id = hotel_id\n",
    "    identity_email = fake.email()\n",
    "    identity_password = fake.password()\n",
    "    identity_role = fake.random_element(elements=('Admin', 'Employee','Guest'))\n",
    "    mycursor.execute(f\"INSERT INTO Identities (hotelId, email, password, role) VALUES ('{identity_hotel_id}', '{identity_email}', '{identity_password}', '{identity_role}')\")\n",
    "\n",
    "# Commit the changes to the database\n",
    "mydb.commit()"
   ]
  },
  {
   "cell_type": "code",
   "execution_count": 67,
   "id": "wr91MchiYI6s",
   "metadata": {
    "colab": {
     "base_uri": "https://localhost:8080/"
    },
    "id": "wr91MchiYI6s",
    "outputId": "3b918e60-d14c-4d9a-a986-02672ba2f306"
   },
   "outputs": [
    {
     "name": "stdout",
     "output_type": "stream",
     "text": [
      "Hotel Count: 1\n",
      "Rooms Count: 10\n",
      "Amenities Count: 119392\n",
      "Users Count: 119391\n",
      "Gallery Count: 119392\n",
      "RoomsAmenities Count: 1\n",
      "Reservations Count: 119391\n",
      "UsersIdentities Count: 0\n",
      "Billing Count: 119391\n",
      "Identities Count: 119391\n"
     ]
    }
   ],
   "source": [
    "#check if all table\n",
    "# Check and count records in each table\n",
    "\n",
    "# Hotel table\n",
    "mycursor.execute(\"SELECT COUNT(*) FROM Hotel\")\n",
    "hotel_count = mycursor.fetchone()[0]\n",
    "print(\"Hotel Count:\", hotel_count)\n",
    "\n",
    "# Rooms table\n",
    "mycursor.execute(\"SELECT COUNT(*) FROM Rooms\")\n",
    "rooms_count = mycursor.fetchone()[0]\n",
    "print(\"Rooms Count:\", rooms_count)\n",
    "\n",
    "# Amenities table\n",
    "mycursor.execute(\"SELECT COUNT(*) FROM Amenities\")\n",
    "amenities_count = mycursor.fetchone()[0]\n",
    "print(\"Amenities Count:\", amenities_count)\n",
    "\n",
    "# Users table\n",
    "mycursor.execute(\"SELECT COUNT(*) FROM Users\")\n",
    "users_count = mycursor.fetchone()[0]\n",
    "print(\"Users Count:\", users_count)\n",
    "\n",
    "# Gallery table\n",
    "mycursor.execute(\"SELECT COUNT(*) FROM Gallery\")\n",
    "gallery_count = mycursor.fetchone()[0]\n",
    "print(\"Gallery Count:\", gallery_count)\n",
    "\n",
    "# RoomsAmentities table\n",
    "mycursor.execute(\"SELECT COUNT(*) FROM RoomsAmentities\")\n",
    "rooms_amenities_count = mycursor.fetchone()[0]\n",
    "print(\"RoomsAmenities Count:\", rooms_amenities_count)\n",
    "\n",
    "# Reservations table\n",
    "mycursor.execute(\"SELECT COUNT(*) FROM Reservations\")\n",
    "reservations_count = mycursor.fetchone()[0]\n",
    "print(\"Reservations Count:\", reservations_count)\n",
    "\n",
    "# UsersIdentities table\n",
    "mycursor.execute(\"SELECT COUNT(*) FROM UsersIdentities\")\n",
    "users_identities_count = mycursor.fetchone()[0]\n",
    "print(\"UsersIdentities Count:\", users_identities_count)\n",
    "\n",
    "# Billing table\n",
    "mycursor.execute(\"SELECT COUNT(*) FROM Billing\")\n",
    "billing_count = mycursor.fetchone()[0]\n",
    "print(\"Billing Count:\", billing_count)\n",
    "\n",
    "# Identities table\n",
    "mycursor.execute(\"SELECT COUNT(*) FROM Identities\")\n",
    "identities_count = mycursor.fetchone()[0]\n",
    "print(\"Identities Count:\", identities_count)\n"
   ]
  },
  {
   "cell_type": "code",
   "execution_count": null,
   "id": "f4032b3c",
   "metadata": {
    "colab": {
     "base_uri": "https://localhost:8080/"
    },
    "id": "lE18J2RXYpYy",
    "outputId": "f4918363-17d1-453b-e16a-727e8f9160c9"
   },
   "outputs": [],
   "source": [
    "# Fetch records from each table\n",
    "# Hotel table\n",
    "mycursor.execute(\"SELECT * FROM Hotel\")\n",
    "hotel_records = mycursor.fetchall()\n",
    "print(\"Hotel Records:\")\n",
    "for record in hotel_records:\n",
    "    print(record)\n",
    "\n",
    "# Rooms table\n",
    "mycursor.execute(\"SELECT * FROM Rooms\")\n",
    "rooms_records = mycursor.fetchall()\n",
    "print(\"Rooms Records:\")\n",
    "for record in rooms_records:\n",
    "    print(record)\n",
    "\n",
    "# Amenities table\n",
    "mycursor.execute(\"SELECT * FROM Amenities\")\n",
    "amenities_records = mycursor.fetchall()\n",
    "print(\"Amenities Records:\")\n",
    "for record in amenities_records:\n",
    "    print(record)\n",
    "\n",
    "# Users table\n",
    "mycursor.execute(\"SELECT * FROM Users\")\n",
    "users_records = mycursor.fetchall()\n",
    "print(\"Users Records:\")\n",
    "for record in users_records:\n",
    "    print(record)\n",
    "\n",
    "# Gallery table\n",
    "mycursor.execute(\"SELECT * FROM Gallery\")\n",
    "gallery_records = mycursor.fetchall()\n",
    "print(\"Gallery Records:\")\n",
    "for record in gallery_records:\n",
    "    print(record)\n",
    "\n",
    "\n",
    "# Reservations table\n",
    "mycursor.execute(\"SELECT * FROM Reservations\")\n",
    "reservations_records = mycursor.fetchall()\n",
    "print(\"Reservations Records:\")\n",
    "for record in reservations_records:\n",
    "    print(record)\n",
    "\n",
    "# UsersIdentities table\n",
    "mycursor.execute(\"SELECT * FROM UsersIdentities\")\n",
    "users_identities_records = mycursor.fetchall()\n",
    "print(\"UsersIdentities Records:\")\n",
    "for record in users_identities_records:\n",
    "    print(record)\n",
    "\n",
    "# Billing table\n",
    "mycursor.execute(\"SELECT * FROM Billing\")\n",
    "billing_records = mycursor.fetchall()\n",
    "print(\"Billing Records:\")\n",
    "for record in billing_records:\n",
    "    print(record)\n",
    "\n",
    "# Identities table\n",
    "mycursor.execute(\"SELECT * FROM Identities\")\n",
    "identities_records = mycursor.fetchall()\n",
    "print(\"Identities Records:\")\n",
    "for record in identities_records:\n",
    "    print(record)\n"
   ]
  },
  {
   "cell_type": "markdown",
   "id": "66bea597",
   "metadata": {},
   "source": [
    "#### Performance Testing"
   ]
  },
  {
   "cell_type": "code",
   "execution_count": 102,
   "id": "442205bc",
   "metadata": {},
   "outputs": [],
   "source": [
    "import timeit\n",
    "# Establish connection to MySQL database\n",
    "conn = mysql.connector.connect(\n",
    "  host=\"127.0.0.1\",\n",
    "  user=\"root\",\n",
    "  password=\"root\", \n",
    "  auth_plugin=\"mysql_native_password\",\n",
    "  database=\"dreamlandmanor\"\n",
    ")\n",
    "cursor = conn.cursor(buffered=True)"
   ]
  },
  {
   "cell_type": "code",
   "execution_count": 118,
   "id": "f6394e4e",
   "metadata": {},
   "outputs": [
    {
     "name": "stdout",
     "output_type": "stream",
     "text": [
      "Average execution time: 1.2388674200003151 seconds\n"
     ]
    }
   ],
   "source": [
    "#Performance Testing to fetch all records\n",
    "# Define the test scenario: Example query execution\n",
    "def perform_query():\n",
    "    cursor.execute(\"SELECT * FROM Reservations LIMIT 100000\")\n",
    "# Measure execution time\n",
    "execution_time = timeit.timeit(perform_query, number=10)  # Run the query 10 times\n",
    "# Print the average execution time\n",
    "print(f\"Average execution time: {execution_time/10} seconds\")"
   ]
  },
  {
   "cell_type": "code",
   "execution_count": 119,
   "id": "b4e2edd7",
   "metadata": {},
   "outputs": [
    {
     "data": {
      "image/png": "[encoded data removed]",
      "text/plain": [
       "<Figure size 640x480 with 1 Axes>"
      ]
     },
     "metadata": {},
     "output_type": "display_data"
    }
   ],
   "source": [
    "import matplotlib.pyplot as plt\n",
    "\n",
    "# Define the test scenarios and their corresponding average execution times\n",
    "scenarios = ['1,000 Records', '10,000 Records', '100,000 Records']\n",
    "execution_times = [8.57, 71.37, 776.21]\n",
    "\n",
    "# Define the benchmark values\n",
    "benchmark_values = [10, 100, 1000]\n",
    "\n",
    "# Create the line chart\n",
    "plt.plot(scenarios, execution_times, marker='o', label='Execution Time')\n",
    "plt.plot(scenarios, benchmark_values, marker='s', label='Benchmark')\n",
    "\n",
    "# Set labels and title\n",
    "plt.xlabel('Number of Records')\n",
    "plt.ylabel('Average Execution Time (milliseconds)')\n",
    "plt.title('Performance Test Results')\n",
    "\n",
    "# Add a legend\n",
    "plt.legend()\n",
    "\n",
    "# Show the chart\n",
    "plt.show()\n"
   ]
  },
  {
   "cell_type": "code",
   "execution_count": 81,
   "id": "7e3cea30",
   "metadata": {},
   "outputs": [
    {
     "name": "stdout",
     "output_type": "stream",
     "text": [
      "Average execution time: 0.8758083400000032 seconds\n"
     ]
    }
   ],
   "source": [
    " #Performance Testing INSERTing 1000 record\n",
    "# Define the test scenario: Example query execution\n",
    "def perform_query():\n",
    "    for _ in range(1000):\n",
    "        # Insert statement for Reservations table\n",
    "        reservation_room_id = 1\n",
    "        reservation_user_id = 1\n",
    "        reservation_checkin = row['arrival_date'] #fake.date_between(start_date='-1y', end_date='+1y')\n",
    "        reservation_checkout = fake.date_between_dates(date_start=reservation_checkin, date_end=reservation_checkin+datetime.timedelta(days=5))\n",
    "        reservation_status = row['reservation_status'] #fake.random_element(elements=('Confirmed', 'Pending', 'Cancelled'))\n",
    "        reservation_notes = fake.sentence()\n",
    "        cursor.execute(f\"INSERT INTO Reservations (roomId, userId, checkin, checkout, status, notes) VALUES ('{reservation_room_id}', '{reservation_user_id}', '{reservation_checkin}', '{reservation_checkout}', '{reservation_status}', '{reservation_notes}')\")\n",
    "# Measure execution time\n",
    "execution_time = timeit.timeit(perform_query, number=10)  # Run the query 10 times\n",
    "# Print the average execution time\n",
    "print(f\"Average execution time: {execution_time/10} seconds\")\n"
   ]
  },
  {
   "cell_type": "code",
   "execution_count": 89,
   "id": "c65002fc",
   "metadata": {},
   "outputs": [
    {
     "name": "stdout",
     "output_type": "stream",
     "text": [
      "Average execution time: 0.000799610000103712 seconds\n"
     ]
    }
   ],
   "source": [
    " #Performance Testing INSERTing a record\n",
    "# Define the test scenario: Example query execution\n",
    "def perform_query():\n",
    "    # Insert statement for Reservations table\n",
    "    reservation_room_id = 1\n",
    "    reservation_user_id = 1\n",
    "    reservation_checkin = row['arrival_date'] #fake.date_between(start_date='-1y', end_date='+1y')\n",
    "    reservation_checkout = fake.date_between_dates(date_start=reservation_checkin, date_end=reservation_checkin+datetime.timedelta(days=5))\n",
    "    reservation_status = row['reservation_status'] #fake.random_element(elements=('Confirmed', 'Pending', 'Cancelled'))\n",
    "    reservation_notes = fake.sentence()\n",
    "    cursor.execute(f\"INSERT INTO Reservations (roomId, userId, checkin, checkout, status, notes) VALUES ('{reservation_room_id}', '{reservation_user_id}', '{reservation_checkin}', '{reservation_checkout}', '{reservation_status}', '{reservation_notes}')\")\n",
    "# Measure execution time\n",
    "execution_time = timeit.timeit(perform_query, number=10)  # Run the query 10 times\n",
    "# Print the average execution time\n",
    "print(f\"Average execution time: {execution_time/10} seconds\")\n"
   ]
  },
  {
   "cell_type": "code",
   "execution_count": null,
   "id": "c66e8740",
   "metadata": {},
   "outputs": [],
   "source": [
    "# Close the database connection\n",
    "cursor.close()\n",
    "conn.close()"
   ]
  },
  {
   "cell_type": "markdown",
   "id": "e288c36b",
   "metadata": {},
   "source": [
    "#### Penetration Test\n",
    "Preventing SQL Injection. \n",
    "To prevent SQL injection vulnerabilities, it is crucial to employ proper security practices when interacting with databases. Here are some preventive measures you can implement:\n",
    "\n",
    "1. Parameterized Queries (Prepared Statements): Instead of directly embedding user input in SQL queries, use parameterized queries or prepared statements provided by your database driver. This approach separates the SQL code from the user input and ensures that input values are treated as data rather than executable code.\n",
    "\n",
    "Recommendation\n",
    "Input Validation and Sanitization: Validate and sanitize user input before using it in SQL queries. Implement strict validation checks to ensure that only expected and acceptable input is allowed. Sanitize the input by removing or encoding special characters that could potentially alter the query's structure.\n",
    "\n",
    "Least Privilege Principle: Ensure that database users and application credentials have the least privileges necessary. Limit the privileges granted to the application to only perform the required operations on the database. This minimizes the potential impact of an SQL injection attack.\n",
    "\n",
    "Secure Coding Practices: Follow secure coding practices and guidelines to write robust and secure code. Avoid dynamic query generation by concatenating user input with SQL statements. Use parameterized queries consistently throughout the application.\n",
    "\n",
    "Regular Patching and Updates: Keep your database management system and related libraries up to date with the latest security patches and updates. This helps protect against known vulnerabilities and ensures that you have the most secure versions in use.\n",
    "\n",
    "Security Audits and Testing: Conduct regular security audits and penetration testing on your application and database to identify and address any potential vulnerabilities. Perform thorough testing for various types of attacks, including SQL injection, to ensure the robustness of your system.\n"
   ]
  },
  {
   "cell_type": "code",
   "execution_count": null,
   "id": "529030a5",
   "metadata": {},
   "outputs": [],
   "source": [
    "conn = mysql.connector.connect(\n",
    "  host=\"127.0.0.1\",\n",
    "  user=\"root\",\n",
    "  password=\"root\", \n",
    "  auth_plugin=\"mysql_native_password\",\n",
    "  database=\"dreamlandmanor\"\n",
    ")\n",
    "\n",
    "cursor = conn.cursor(buffered=True)"
   ]
  },
  {
   "cell_type": "code",
   "execution_count": 95,
   "id": "fd30c75e",
   "metadata": {},
   "outputs": [
    {
     "name": "stdout",
     "output_type": "stream",
     "text": [
      "SQL Injection vulnerability detected!\n"
     ]
    }
   ],
   "source": [
    "#Demostrating Vulnerability (directly embedding user input in SQL queries)\n",
    "# Define the vulnerable parameter and payload\n",
    "vulnerable_param = \"shortname\"\n",
    "payload = \"' OR '1'='1' -- \"\n",
    "# Construct and execute the SQL query with the payload\n",
    "query = f\"SELECT * FROM Rooms WHERE {vulnerable_param} = '{payload}'\"\n",
    "cursor.execute(query)\n",
    "# Retrieve the results\n",
    "results = cursor.fetchall()\n",
    "# Check if the query returned any results\n",
    "if results:\n",
    "    print(\"SQL Injection vulnerability detected!\")\n",
    "    # Report the vulnerability and provide further details\n",
    "else:\n",
    "    print(\"No SQL Injection vulnerability detected.\")\n"
   ]
  },
  {
   "cell_type": "code",
   "execution_count": 100,
   "id": "08cae546",
   "metadata": {},
   "outputs": [
    {
     "name": "stdout",
     "output_type": "stream",
     "text": [
      "Room Records:\n",
      "(2, 1, 'A', 'Occupied', 177.0, 'Suite', 2, 'Individual through next stay raise author run.')\n"
     ]
    }
   ],
   "source": [
    "#Providing Solution to Prevent such Vulnerability (Parameterized Queries (Prepared Statements))\n",
    "# Define the query template with placeholders\n",
    "query = \"SELECT * FROM Rooms WHERE shortname = %s\"\n",
    "# Execute the query with the user input as a parameter\n",
    "roomname = \"A\"\n",
    "#roomname = \"' OR '1'='1' -- \" #try running this will result in no records returned\n",
    "cursor.execute(query, (roomname,))\n",
    "# Retrieve the results\n",
    "results = cursor.fetchall()\n",
    "print(\"Room Records:\")\n",
    "for record in results:\n",
    "    print(record)"
   ]
  },
  {
   "cell_type": "code",
   "execution_count": null,
   "id": "571b55e2",
   "metadata": {},
   "outputs": [],
   "source": [
    "# Close the database connection\n",
    "cursor.close()\n",
    "conn.close()"
   ]
  },
  {
   "cell_type": "code",
   "execution_count": null,
   "id": "5a00870c",
   "metadata": {},
   "outputs": [],
   "source": []
  },
  {
   "cell_type": "code",
   "execution_count": null,
   "id": "8e63aade",
   "metadata": {},
   "outputs": [],
   "source": []
  }
 ],
 "metadata": {
  "colab": {
   "provenance": []
  },
  "kernelspec": {
   "display_name": "Python 3 (ipykernel)",
   "language": "python",
   "name": "python3"
  },
  "language_info": {
   "codemirror_mode": {
    "name": "ipython",
    "version": 3
   },
   "file_extension": ".py",
   "mimetype": "text/x-python",
   "name": "python",
   "nbconvert_exporter": "python",
   "pygments_lexer": "ipython3",
   "version": "3.9.13"
  }
 },
 "nbformat": 4,
 "nbformat_minor": 5
}
