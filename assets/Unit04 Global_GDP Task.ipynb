{
 "cells": [
  {
   "cell_type": "code",
   "execution_count": 1,
   "id": "13da8f0d",
   "metadata": {},
   "outputs": [],
   "source": [
    "import matplotlib.pyplot as plt\n",
    "import pandas as pd\n",
    "import pylab as pl\n",
    "import numpy as np\n",
    "import seaborn as sns"
   ]
  },
  {
   "cell_type": "code",
   "execution_count": 2,
   "id": "aad4db6d",
   "metadata": {},
   "outputs": [],
   "source": [
    "#Import datasets\n",
    "GDP_df = pd.read_csv('Unit04 Global_GDP.csv')\n",
    "Pop_df = pd.read_csv('Unit04 Global_Population.csv')"
   ]
  },
  {
   "cell_type": "markdown",
   "id": "19d5e50b",
   "metadata": {},
   "source": [
    "# Data Preparation\n",
    "Pre-process the data – mean population of each country and mean per capita GDP (from 2001 to 2021) by making some arrangements for the missing values."
   ]
  },
  {
   "cell_type": "code",
   "execution_count": 3,
   "id": "d3ea9221",
   "metadata": {},
   "outputs": [],
   "source": [
    "#EDA and data prep\n",
    "# Sort ascending by country code\n",
    "GDP_df.sort_values('Country Code', inplace=True)\n",
    "Pop_df.sort_values('Country Code', inplace=True)"
   ]
  },
  {
   "cell_type": "code",
   "execution_count": 4,
   "id": "cfacf167",
   "metadata": {},
   "outputs": [
    {
     "name": "stdout",
     "output_type": "stream",
     "text": [
      "Duplicate values in column 'Country Code':\n",
      "                                          Country Name Country Code  \\\n",
      "0                                                Aruba          ABW   \n",
      "13                                               Aruba          ABW   \n",
      "267                                                NaN          NaN   \n",
      "268                                                NaN          NaN   \n",
      "269                                                NaN          NaN   \n",
      "270  Data from database: Population estimates and p...          NaN   \n",
      "271                           Last Updated: 12/17/2021          NaN   \n",
      "\n",
      "           Series Name  Series Code   1960   1961   1962   1963   1964   1965  \\\n",
      "0    Population, total  SP.POP.TOTL  54211  55438  56225  56695  57032  57360   \n",
      "13   Population, total  SP.POP.TOTL  54208  55434  56234  56699  57029  57357   \n",
      "267                NaN          NaN    NaN    NaN    NaN    NaN    NaN    NaN   \n",
      "268                NaN          NaN    NaN    NaN    NaN    NaN    NaN    NaN   \n",
      "269                NaN          NaN    NaN    NaN    NaN    NaN    NaN    NaN   \n",
      "270                NaN          NaN    NaN    NaN    NaN    NaN    NaN    NaN   \n",
      "271                NaN          NaN    NaN    NaN    NaN    NaN    NaN    NaN   \n",
      "\n",
      "     ...    2012    2013    2014    2015    2016    2017    2018    2019  \\\n",
      "0    ...  102560  103159  103774  104341  104872  105366  105845  106314   \n",
      "13   ...  102565  103165  103776  104339  104865  105361  105846  106310   \n",
      "267  ...     NaN     NaN     NaN     NaN     NaN     NaN     NaN     NaN   \n",
      "268  ...     NaN     NaN     NaN     NaN     NaN     NaN     NaN     NaN   \n",
      "269  ...     NaN     NaN     NaN     NaN     NaN     NaN     NaN     NaN   \n",
      "270  ...     NaN     NaN     NaN     NaN     NaN     NaN     NaN     NaN   \n",
      "271  ...     NaN     NaN     NaN     NaN     NaN     NaN     NaN     NaN   \n",
      "\n",
      "       2020    2021  \n",
      "0       NaN     NaN  \n",
      "13   106766  107000  \n",
      "267     NaN     NaN  \n",
      "268     NaN     NaN  \n",
      "269     NaN     NaN  \n",
      "270     NaN     NaN  \n",
      "271     NaN     NaN  \n",
      "\n",
      "[7 rows x 66 columns]\n"
     ]
    }
   ],
   "source": [
    "# Find values in the Country Code that appear more than once\n",
    "duplicates_column = Pop_df[Pop_df['Country Code'].duplicated(keep=False)]\n",
    "\n",
    "# Display the result\n",
    "print(f\"Duplicate values in column '{'Country Code'}':\")\n",
    "print(duplicates_column)"
   ]
  },
  {
   "cell_type": "code",
   "execution_count": 5,
   "id": "b4d645d9",
   "metadata": {},
   "outputs": [],
   "source": [
    "#Aruba appears twice remove one of the values, index 0 contains NaN values so was selected to be removed\n",
    "Pop_df = Pop_df.drop(Pop_df.index[0])\n",
    "\n",
    "# Set 'Country Code' as the index\n",
    "Pop_df.set_index('Country Code', inplace=True)\n",
    "GDP_df.set_index('Country Code', inplace=True)\n",
    "\n",
    "#Drop Rows at end of the index that contain only NaN values\n",
    "Pop_df = Pop_df.drop(Pop_df.index[267:])\n",
    "\n",
    "\n",
    "#Drop Columns for years before 2001\n",
    "GDP_df.drop(GDP_df.loc[:, 'Country Name':'2000'], inplace=True, axis=1)\n",
    "Pop_df.drop(Pop_df.loc[:, 'Country Name':'2000'], inplace=True, axis=1)\n",
    "\n",
    "# Drop the '2021' column from Pop_df as that year is not in the GDP_df\n",
    "Pop_df.drop('2021', axis=1, inplace=True)"
   ]
  },
  {
   "cell_type": "code",
   "execution_count": 6,
   "id": "321d1d8c",
   "metadata": {},
   "outputs": [
    {
     "name": "stdout",
     "output_type": "stream",
     "text": [
      "####GDP_df####\n",
      "2001    float64\n",
      "2002    float64\n",
      "2003    float64\n",
      "2004    float64\n",
      "2005    float64\n",
      "2006    float64\n",
      "2007    float64\n",
      "2008    float64\n",
      "2009    float64\n",
      "2010    float64\n",
      "2011    float64\n",
      "2012    float64\n",
      "2013    float64\n",
      "2014    float64\n",
      "2015    float64\n",
      "2016    float64\n",
      "2017    float64\n",
      "2018    float64\n",
      "2019    float64\n",
      "2020    float64\n",
      "dtype: object\n",
      "####Pop_df####\n",
      "2001    object\n",
      "2002    object\n",
      "2003    object\n",
      "2004    object\n",
      "2005    object\n",
      "2006    object\n",
      "2007    object\n",
      "2008    object\n",
      "2009    object\n",
      "2010    object\n",
      "2011    object\n",
      "2012    object\n",
      "2013    object\n",
      "2014    object\n",
      "2015    object\n",
      "2016    object\n",
      "2017    object\n",
      "2018    object\n",
      "2019    object\n",
      "2020    object\n",
      "dtype: object\n"
     ]
    }
   ],
   "source": [
    "#Check column types\n",
    "print('####GDP_df####')\n",
    "print(GDP_df.dtypes)\n",
    "print('####Pop_df####')\n",
    "print(Pop_df.dtypes)"
   ]
  },
  {
   "cell_type": "code",
   "execution_count": 7,
   "id": "7faff684",
   "metadata": {},
   "outputs": [
    {
     "data": {
      "text/plain": [
       "2001    float64\n",
       "2002    float64\n",
       "2003    float64\n",
       "2004    float64\n",
       "2005    float64\n",
       "2006    float64\n",
       "2007    float64\n",
       "2008    float64\n",
       "2009    float64\n",
       "2010    float64\n",
       "2011    float64\n",
       "2012    float64\n",
       "2013    float64\n",
       "2014    float64\n",
       "2015    float64\n",
       "2016    float64\n",
       "2017    float64\n",
       "2018    float64\n",
       "2019    float64\n",
       "2020    float64\n",
       "dtype: object"
      ]
     },
     "execution_count": 7,
     "metadata": {},
     "output_type": "execute_result"
    }
   ],
   "source": [
    "# Convert the columns to numeric, replacing non-numeric values with NaN\n",
    "Pop_df = Pop_df.apply(pd.to_numeric, errors='coerce')\n",
    "Pop_df.dtypes"
   ]
  },
  {
   "cell_type": "code",
   "execution_count": 8,
   "id": "b45ba130",
   "metadata": {},
   "outputs": [
    {
     "data": {
      "text/plain": [
       "2001    6.766917\n",
       "2002    4.887218\n",
       "2003    4.887218\n",
       "2004    4.887218\n",
       "2005    4.887218\n",
       "2006    4.511278\n",
       "2007    4.511278\n",
       "2008    4.135338\n",
       "2009    4.135338\n",
       "2010    3.759398\n",
       "2011    3.007519\n",
       "2012    3.383459\n",
       "2013    3.007519\n",
       "2014    3.007519\n",
       "2015    3.383459\n",
       "2016    3.759398\n",
       "2017    3.759398\n",
       "2018    3.759398\n",
       "2019    4.887218\n",
       "2020    9.398496\n",
       "dtype: float64"
      ]
     },
     "execution_count": 8,
     "metadata": {},
     "output_type": "execute_result"
    }
   ],
   "source": [
    "#Percentage of values missing\n",
    "GDP_df.isnull().sum() / GDP_df.shape[0] * 100\n",
    "\n",
    "#Each year is missing between 3-10% of values"
   ]
  },
  {
   "cell_type": "code",
   "execution_count": 9,
   "id": "f755be62",
   "metadata": {},
   "outputs": [],
   "source": [
    "#Replace NA values with mean value for that year\n",
    "GDP_df= GDP_df.fillna(GDP_df.mean())\n",
    "Pop_df= Pop_df.fillna(Pop_df.mean())"
   ]
  },
  {
   "cell_type": "code",
   "execution_count": 20,
   "id": "50b86b3a",
   "metadata": {},
   "outputs": [
    {
     "name": "stdout",
     "output_type": "stream",
     "text": [
      "Mean of all years per country:\n",
      "Country Code\n",
      "ABW    2.906725e+11\n",
      "AFE    7.441522e+11\n",
      "AFG    6.471392e+10\n",
      "AFW    5.570494e+11\n",
      "AGO    7.868516e+10\n",
      "           ...     \n",
      "XKX    5.008561e+11\n",
      "YEM    3.114042e+11\n",
      "ZAF    3.280526e+11\n",
      "ZMB    1.740083e+10\n",
      "ZWE    1.253090e+10\n",
      "Length: 266, dtype: float64\n",
      "Mean population of all years per country:\n",
      "Country Code\n",
      "ABW    1.017625e+05\n",
      "AFE    5.321282e+08\n",
      "AFG    3.021299e+07\n",
      "AFW    3.594714e+08\n",
      "AGO    2.418655e+07\n",
      "           ...     \n",
      "XKX    1.760095e+06\n",
      "YEM    2.363835e+07\n",
      "ZAF    5.200136e+07\n",
      "ZMB    1.410907e+07\n",
      "ZWE    1.304740e+07\n",
      "Length: 266, dtype: float64\n"
     ]
    }
   ],
   "source": [
    "#Find mean GDP_per_capita for each country for all years\n",
    "# Calculate the GDP mean for each Countrys across all years\n",
    "mean_GDP_per_Country = GDP_df.mean(axis=1)\n",
    "# Calculate the mean population for each Countrys across all years\n",
    "mean_pop_per_Country = Pop_df.mean(axis=1)\n",
    "\n",
    "# Display the result\n",
    "print(\"Mean of all years per country:\")\n",
    "print(mean_GDP_per_Country)\n",
    "\n",
    "# Display the result\n",
    "print(\"Mean population of all years per country:\")\n",
    "print(mean_pop_per_Country)"
   ]
  },
  {
   "cell_type": "code",
   "execution_count": 21,
   "id": "ed239348",
   "metadata": {},
   "outputs": [],
   "source": [
    "#Create df containing these values\n",
    "Country_df= pd.DataFrame({'Mean GDP': mean_GDP_per_Country, 'Mean Population': mean_pop_per_Country})"
   ]
  },
  {
   "cell_type": "code",
   "execution_count": 22,
   "id": "fef172b2",
   "metadata": {},
   "outputs": [
    {
     "data": {
      "text/html": [
       "<div>\n",
       "<style scoped>\n",
       "    .dataframe tbody tr th:only-of-type {\n",
       "        vertical-align: middle;\n",
       "    }\n",
       "\n",
       "    .dataframe tbody tr th {\n",
       "        vertical-align: top;\n",
       "    }\n",
       "\n",
       "    .dataframe thead th {\n",
       "        text-align: right;\n",
       "    }\n",
       "</style>\n",
       "<table border=\"1\" class=\"dataframe\">\n",
       "  <thead>\n",
       "    <tr style=\"text-align: right;\">\n",
       "      <th></th>\n",
       "      <th>Mean GDP</th>\n",
       "      <th>Mean Population</th>\n",
       "    </tr>\n",
       "    <tr>\n",
       "      <th>Country Code</th>\n",
       "      <th></th>\n",
       "      <th></th>\n",
       "    </tr>\n",
       "  </thead>\n",
       "  <tbody>\n",
       "    <tr>\n",
       "      <th>ABW</th>\n",
       "      <td>2.906725e+11</td>\n",
       "      <td>1.017625e+05</td>\n",
       "    </tr>\n",
       "    <tr>\n",
       "      <th>AFE</th>\n",
       "      <td>7.441522e+11</td>\n",
       "      <td>5.321282e+08</td>\n",
       "    </tr>\n",
       "    <tr>\n",
       "      <th>AFG</th>\n",
       "      <td>6.471392e+10</td>\n",
       "      <td>3.021299e+07</td>\n",
       "    </tr>\n",
       "    <tr>\n",
       "      <th>AFW</th>\n",
       "      <td>5.570494e+11</td>\n",
       "      <td>3.594714e+08</td>\n",
       "    </tr>\n",
       "    <tr>\n",
       "      <th>AGO</th>\n",
       "      <td>7.868516e+10</td>\n",
       "      <td>2.418655e+07</td>\n",
       "    </tr>\n",
       "    <tr>\n",
       "      <th>...</th>\n",
       "      <td>...</td>\n",
       "      <td>...</td>\n",
       "    </tr>\n",
       "    <tr>\n",
       "      <th>XKX</th>\n",
       "      <td>5.008561e+11</td>\n",
       "      <td>1.760095e+06</td>\n",
       "    </tr>\n",
       "    <tr>\n",
       "      <th>YEM</th>\n",
       "      <td>3.114042e+11</td>\n",
       "      <td>2.363835e+07</td>\n",
       "    </tr>\n",
       "    <tr>\n",
       "      <th>ZAF</th>\n",
       "      <td>3.280526e+11</td>\n",
       "      <td>5.200136e+07</td>\n",
       "    </tr>\n",
       "    <tr>\n",
       "      <th>ZMB</th>\n",
       "      <td>1.740083e+10</td>\n",
       "      <td>1.410907e+07</td>\n",
       "    </tr>\n",
       "    <tr>\n",
       "      <th>ZWE</th>\n",
       "      <td>1.253090e+10</td>\n",
       "      <td>1.304740e+07</td>\n",
       "    </tr>\n",
       "  </tbody>\n",
       "</table>\n",
       "<p>266 rows × 2 columns</p>\n",
       "</div>"
      ],
      "text/plain": [
       "                  Mean GDP  Mean Population\n",
       "Country Code                               \n",
       "ABW           2.906725e+11     1.017625e+05\n",
       "AFE           7.441522e+11     5.321282e+08\n",
       "AFG           6.471392e+10     3.021299e+07\n",
       "AFW           5.570494e+11     3.594714e+08\n",
       "AGO           7.868516e+10     2.418655e+07\n",
       "...                    ...              ...\n",
       "XKX           5.008561e+11     1.760095e+06\n",
       "YEM           3.114042e+11     2.363835e+07\n",
       "ZAF           3.280526e+11     5.200136e+07\n",
       "ZMB           1.740083e+10     1.410907e+07\n",
       "ZWE           1.253090e+10     1.304740e+07\n",
       "\n",
       "[266 rows x 2 columns]"
      ]
     },
     "execution_count": 22,
     "metadata": {},
     "output_type": "execute_result"
    }
   ],
   "source": [
    "Country_df"
   ]
  },
  {
   "cell_type": "markdown",
   "id": "2faf8480",
   "metadata": {},
   "source": [
    "# Task A: Correlation\n",
    "Investigate any correlation between the mean population of each country and the mean per capita GDP (from 2001 to 2021). Very briefly, interpret the generated plot. Evaluate the Pearson Correlation Coefficient."
   ]
  },
  {
   "cell_type": "code",
   "execution_count": 23,
   "id": "1e342670",
   "metadata": {},
   "outputs": [
    {
     "data": {
      "image/png": "[encoded data removed]",
      "text/plain": [
       "<Figure size 432x288 with 1 Axes>"
      ]
     },
     "metadata": {
      "needs_background": "light"
     },
     "output_type": "display_data"
    }
   ],
   "source": [
    "sns.scatterplot(x='Mean Population', y='Mean GDP', data= Country_df)\n",
    "plt.xlabel('Mean Population')\n",
    "plt.ylabel('Mean GDP')\n",
    "plt.title('GDP vs Population')\n",
    "plt.show()"
   ]
  },
  {
   "cell_type": "markdown",
   "id": "cc90510d",
   "metadata": {},
   "source": [
    "Output shows a strong positive correlation between the mean GDP and mean population. Indicating that as mean GDP increases mean population also increases. "
   ]
  },
  {
   "cell_type": "code",
   "execution_count": 24,
   "id": "ff212ff1",
   "metadata": {},
   "outputs": [
    {
     "data": {
      "text/html": [
       "<div>\n",
       "<style scoped>\n",
       "    .dataframe tbody tr th:only-of-type {\n",
       "        vertical-align: middle;\n",
       "    }\n",
       "\n",
       "    .dataframe tbody tr th {\n",
       "        vertical-align: top;\n",
       "    }\n",
       "\n",
       "    .dataframe thead th {\n",
       "        text-align: right;\n",
       "    }\n",
       "</style>\n",
       "<table border=\"1\" class=\"dataframe\">\n",
       "  <thead>\n",
       "    <tr style=\"text-align: right;\">\n",
       "      <th></th>\n",
       "      <th>Mean GDP</th>\n",
       "      <th>Mean Population</th>\n",
       "    </tr>\n",
       "  </thead>\n",
       "  <tbody>\n",
       "    <tr>\n",
       "      <th>Mean GDP</th>\n",
       "      <td>1.000000</td>\n",
       "      <td>0.711381</td>\n",
       "    </tr>\n",
       "    <tr>\n",
       "      <th>Mean Population</th>\n",
       "      <td>0.711381</td>\n",
       "      <td>1.000000</td>\n",
       "    </tr>\n",
       "  </tbody>\n",
       "</table>\n",
       "</div>"
      ],
      "text/plain": [
       "                 Mean GDP  Mean Population\n",
       "Mean GDP         1.000000         0.711381\n",
       "Mean Population  0.711381         1.000000"
      ]
     },
     "execution_count": 24,
     "metadata": {},
     "output_type": "execute_result"
    }
   ],
   "source": [
    "Country_df.corr(method= 'pearson')"
   ]
  },
  {
   "cell_type": "markdown",
   "id": "a8a0b6bf",
   "metadata": {},
   "source": [
    "A value of 0.92 shows a very strong positive correlation."
   ]
  },
  {
   "cell_type": "markdown",
   "id": "eee73f0b",
   "metadata": {},
   "source": [
    "# Task B: Regression\n",
    "Perform linear regression, where the independent variable is the mean population of each country (from 2001 to 2021) and dependent variable is mean per capita GDP (from 2001 to 2021). Be prepared to discuss your agreed results during the seminar session.\n",
    "\n",
    "There will also be an opportunity to discuss your progress on the team project during the seminar."
   ]
  },
  {
   "cell_type": "code",
   "execution_count": 25,
   "id": "4dcc8f42",
   "metadata": {},
   "outputs": [],
   "source": [
    "#Create train and test data \n",
    "msk=np.random.rand(len(Country_df))<0.8\n",
    "train=Country_df[msk]\n",
    "test=Country_df[~msk]"
   ]
  },
  {
   "cell_type": "code",
   "execution_count": 26,
   "id": "938d627b",
   "metadata": {},
   "outputs": [
    {
     "name": "stdout",
     "output_type": "stream",
     "text": [
      "Coefficients: [[5795.58079421]]\n",
      "Intercept: [6.37809917e+11]\n"
     ]
    }
   ],
   "source": [
    "#Train model\n",
    "from sklearn import linear_model\n",
    "regr=linear_model.LinearRegression()\n",
    "train_x=np.asanyarray(train[['Mean Population']])\n",
    "train_y=np.asanyarray(train[['Mean GDP']])\n",
    "\n",
    "#Fit model\n",
    "regr.fit(train_x, train_y)\n",
    "# The coefficients\n",
    "print('Coefficients:', regr.coef_)\n",
    "print('Intercept:', regr.intercept_)"
   ]
  },
  {
   "cell_type": "code",
   "execution_count": 27,
   "id": "fa765002",
   "metadata": {
    "scrolled": true
   },
   "outputs": [
    {
     "data": {
      "text/plain": [
       "Text(0, 0.5, 'Mean GDP')"
      ]
     },
     "execution_count": 27,
     "metadata": {},
     "output_type": "execute_result"
    },
    {
     "data": {
      "image/png": "[encoded data removed]",
      "text/plain": [
       "<Figure size 432x288 with 1 Axes>"
      ]
     },
     "metadata": {
      "needs_background": "light"
     },
     "output_type": "display_data"
    }
   ],
   "source": [
    "# Plot outputs\n",
    "plt.scatter(train_x,train_y,color='blue')\n",
    "plt.plot(train_x,regr.coef_[0][0]*train_x + regr.intercept_[0],'-r')\n",
    "plt.xlabel(\"Mean Population\")\n",
    "plt.ylabel(\"Mean GDP\")"
   ]
  },
  {
   "cell_type": "markdown",
   "id": "512ff86a",
   "metadata": {},
   "source": [
    "A large portion of the points are significantly distant from the linear regression line showing that linear regression is a bad fit for this data and that there is significant variation and potentially outliers."
   ]
  },
  {
   "cell_type": "code",
   "execution_count": 28,
   "id": "e45cca76",
   "metadata": {},
   "outputs": [],
   "source": [
    "from sklearn.metrics import r2_score\n",
    "test_x=np.asanyarray(test[['Mean Population']])\n",
    "test_y=np.asanyarray(test[['Mean GDP']])\n",
    "test_y_ = regr.predict(test_y)"
   ]
  },
  {
   "cell_type": "code",
   "execution_count": 29,
   "id": "adc10026",
   "metadata": {},
   "outputs": [
    {
     "name": "stdout",
     "output_type": "stream",
     "text": [
      "Mean absolute error: 7226970381986855.00\n",
      "Residual sum of squares (MSE): 1255820565357505934742938969964544.00\n",
      "R2-score: -0.04\n"
     ]
    }
   ],
   "source": [
    "#Mean Absolute Error (MAE): a measure of the average absolute differences between predicted and actual values.\n",
    "print(\"Mean absolute error: %.2f\" % np.mean(np.absolute(test_y_-test_y)))\n",
    "\n",
    "#Residual Sum of Squares (MSE): a measure of the average squared differences between predicted and actual values.\n",
    "print(\"Residual sum of squares (MSE): %.2f\" % np.mean((test_y_-test_y)**2))\n",
    "\n",
    "#R-squared (R2-score): measures the proportion of the variance in the dependent variable that is predictable from the independent variables.\n",
    "print(\"R2-score: %.2f\" % r2_score(test_y_,test_y))"
   ]
  },
  {
   "cell_type": "markdown",
   "id": "46eb242e",
   "metadata": {},
   "source": [
    "The model shows a high amount of error suggesting that linear regression is not a good method for this data. \n",
    "R-squared values should fall between 0 and 1. Therefore R2-score of -0.04 is unusual and suggests that the model is not performing well. "
   ]
  }
 ],
 "metadata": {
  "kernelspec": {
   "display_name": "Python 3 (ipykernel)",
   "language": "python",
   "name": "python3"
  },
  "language_info": {
   "codemirror_mode": {
    "name": "ipython",
    "version": 3
   },
   "file_extension": ".py",
   "mimetype": "text/x-python",
   "name": "python",
   "nbconvert_exporter": "python",
   "pygments_lexer": "ipython3",
   "version": "3.9.12"
  }
 },
 "nbformat": 4,
 "nbformat_minor": 5
}
